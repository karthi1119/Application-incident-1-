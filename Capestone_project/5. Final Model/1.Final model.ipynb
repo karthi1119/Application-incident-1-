{
 "cells": [
  {
   "cell_type": "code",
   "execution_count": 1,
   "id": "3bf89788-5656-472e-b014-010c8a4f97ae",
   "metadata": {},
   "outputs": [],
   "source": [
    "import pandas as pd\n",
    "from sklearn.model_selection import train_test_split \n",
    "from sklearn.preprocessing import StandardScaler\n",
    "from sklearn.feature_selection import SelectKBest, chi2\n",
    "from sklearn.metrics import confusion_matrix, accuracy_score, classification_report\n",
    "from sklearn.ensemble import RandomForestClassifier\n",
    "\n",
    "def selectkbest(indep_X, dep_Y, n):\n",
    "    test = SelectKBest(score_func=chi2, k=n)\n",
    "    fit1 = test.fit(indep_X, dep_Y)\n",
    "    selectk_features = fit1.transform(indep_X)\n",
    "    selected_feature_names = fit1.get_feature_names_out(input_features=indep_X.columns)\n",
    "    return selectk_features, selected_feature_names\n",
    "\n",
    "def split_scalar(indep_X, dep_Y):\n",
    "    X_train, X_test, y_train, y_test = train_test_split(indep_X, dep_Y, test_size=0.25, random_state=0)\n",
    "    sc = StandardScaler()\n",
    "    X_train = sc.fit_transform(X_train)\n",
    "    X_test = sc.transform(X_test)    \n",
    "    return X_train, X_test, y_train, y_test,sc\n",
    "\n",
    "def cm_prediction(classifier, X_test, y_test):\n",
    "    y_pred = classifier.predict(X_test)\n",
    "    cm = confusion_matrix(y_test, y_pred)\n",
    "    Accuracy = accuracy_score(y_test, y_pred)\n",
    "    report = classification_report(y_test, y_pred)\n",
    "    return classifier, Accuracy, report, cm\n",
    "\n",
    "def random(X_train, y_train, X_test, y_test):\n",
    "    classifier = RandomForestClassifier(n_estimators=10, criterion='entropy', random_state=0)\n",
    "    classifier.fit(X_train, y_train)\n",
    "    return cm_prediction(classifier, X_test, y_test)\n",
    "\n",
    "def selectk_Classification(accr):\n",
    "    dataframe = pd.DataFrame(index=['Accuracy'], columns=['Random'])\n",
    "    dataframe['Random'] = accrf\n",
    "    return dataframe"
   ]
  },
  {
   "cell_type": "code",
   "execution_count": 2,
   "id": "dc53e058-99ab-4e6f-8bf7-633142d814df",
   "metadata": {},
   "outputs": [],
   "source": [
    "dataset1 = pd.read_csv(\"balanced_dataset.csv\", index_col=None)\n",
    "df2 = pd.get_dummies(dataset1, drop_first=True)\n",
    "\n",
    "indep_X = df2.drop('downtime', axis=1)\n",
    "dep_Y = df2['downtime']\n",
    "# k value = 4\n",
    "kbest_features, selected_feature_names = selectkbest(indep_X, dep_Y, 4)"
   ]
  },
  {
   "cell_type": "code",
   "execution_count": 3,
   "id": "4f088357-542f-4b1f-9efc-84900778a144",
   "metadata": {},
   "outputs": [],
   "source": [
    "X_train, X_test, y_train, y_test,sc = split_scalar(pd.DataFrame(kbest_features), dep_Y)\n",
    "\n",
    "accrf = []"
   ]
  },
  {
   "cell_type": "code",
   "execution_count": 4,
   "id": "497e509d-9047-4dd9-880f-49fc92f13269",
   "metadata": {},
   "outputs": [
    {
     "name": "stdout",
     "output_type": "stream",
     "text": [
      "Selected feature names: ['response_time' 'error_rate' 'cpu_usage' 'active_users']\n",
      "            Random\n",
      "Accuracy  0.883516\n"
     ]
    }
   ],
   "source": [
    "classifier, Accuracy, report, cm = random(X_train, y_train, X_test, y_test)  \n",
    "accrf.append(Accuracy)\n",
    "\n",
    "result = selectk_Classification(accrf)\n",
    "print(\"Selected feature names:\", selected_feature_names)      \n",
    "print(result)\n"
   ]
  },
  {
   "cell_type": "code",
   "execution_count": 5,
   "id": "23216a6b-052f-41c8-aa34-75350dccb898",
   "metadata": {},
   "outputs": [],
   "source": [
    "import pickle"
   ]
  },
  {
   "cell_type": "code",
   "execution_count": 6,
   "id": "a06d125d-7988-4f77-9821-82ef57364e20",
   "metadata": {},
   "outputs": [],
   "source": [
    "filename=\"finalized_model_knn.pkl\""
   ]
  },
  {
   "cell_type": "code",
   "execution_count": 7,
   "id": "6eda10ed-9b75-4bea-a70c-ad6a2d8b73d2",
   "metadata": {},
   "outputs": [],
   "source": [
    "filename1=\"finalized_model_sc.pkl\""
   ]
  },
  {
   "cell_type": "code",
   "execution_count": 8,
   "id": "44a95fb1-1187-410e-96a2-79648e26f8de",
   "metadata": {},
   "outputs": [],
   "source": [
    "pickle.dump(classifier,open(filename,\"wb\"))"
   ]
  },
  {
   "cell_type": "code",
   "execution_count": 9,
   "id": "215bcca4-c699-4f00-be9d-5e2029316c0d",
   "metadata": {},
   "outputs": [],
   "source": [
    "pickle.dump(sc,open(filename1,\"wb\"))"
   ]
  },
  {
   "cell_type": "code",
   "execution_count": 10,
   "id": "dd292b26-6a34-4c82-b1c1-da4e0a40bffa",
   "metadata": {},
   "outputs": [],
   "source": [
    "loaded_model=pickle.load(open(\"finalized_model_knn.pkl\",\"rb\"))"
   ]
  },
  {
   "cell_type": "code",
   "execution_count": 11,
   "id": "606fef66-daca-45b3-a453-09db5665d9cc",
   "metadata": {},
   "outputs": [],
   "source": [
    "loaded_model1=pickle.load(open(\"finalized_model_sc.pkl\",\"rb\"))"
   ]
  },
  {
   "cell_type": "code",
   "execution_count": 20,
   "id": "9690796e-f573-4724-9343-6f454c67c738",
   "metadata": {},
   "outputs": [
    {
     "data": {
      "text/plain": [
       "array([1], dtype=int64)"
      ]
     },
     "execution_count": 20,
     "metadata": {},
     "output_type": "execute_result"
    }
   ],
   "source": [
    "preinput=loaded_model1.transform([[12,2,40,2]])\n",
    "result=loaded_model.predict(preinput)\n",
    "result"
   ]
  },
  {
   "cell_type": "code",
   "execution_count": 21,
   "id": "ca910ce8-9eb2-4d95-83eb-c6d205376cfa",
   "metadata": {},
   "outputs": [
    {
     "name": "stdout",
     "output_type": "stream",
     "text": [
      "The application is down for next 3 months\n"
     ]
    }
   ],
   "source": [
    "if (result==0):\n",
    "    print(\"The application is not down for next 3 months\")\n",
    "else:\n",
    "    print(\"The application is down for next 3 months\")"
   ]
  },
  {
   "cell_type": "code",
   "execution_count": null,
   "id": "6a53d248-b2e4-49af-a472-ae3d219e4796",
   "metadata": {},
   "outputs": [],
   "source": []
  },
  {
   "cell_type": "code",
   "execution_count": null,
   "id": "ea620534-c083-4fee-99ca-3b44eb4ae9f7",
   "metadata": {},
   "outputs": [],
   "source": []
  },
  {
   "cell_type": "code",
   "execution_count": null,
   "id": "03da6702-086b-45d9-ad8f-db7c3b55d331",
   "metadata": {},
   "outputs": [],
   "source": []
  },
  {
   "cell_type": "code",
   "execution_count": null,
   "id": "a1e31b7e-d587-4a56-95e8-02926ef8fb2a",
   "metadata": {},
   "outputs": [],
   "source": []
  }
 ],
 "metadata": {
  "kernelspec": {
   "display_name": "Python 3 (ipykernel)",
   "language": "python",
   "name": "python3"
  },
  "language_info": {
   "codemirror_mode": {
    "name": "ipython",
    "version": 3
   },
   "file_extension": ".py",
   "mimetype": "text/x-python",
   "name": "python",
   "nbconvert_exporter": "python",
   "pygments_lexer": "ipython3",
   "version": "3.12.4"
  }
 },
 "nbformat": 4,
 "nbformat_minor": 5
}
