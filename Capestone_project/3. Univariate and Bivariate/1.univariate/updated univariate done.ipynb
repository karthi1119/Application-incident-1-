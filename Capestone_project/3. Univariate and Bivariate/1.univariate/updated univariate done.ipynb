{
 "cells": [
  {
   "cell_type": "code",
   "execution_count": 1,
   "id": "a18782af-90f6-423c-b614-dcff3daf1154",
   "metadata": {},
   "outputs": [],
   "source": [
    "import pandas as pd\n",
    "import numpy as np\n",
    "import seaborn as sns"
   ]
  },
  {
   "cell_type": "code",
   "execution_count": 2,
   "id": "24e804cd-a15a-4c1e-b47b-43f571ac6661",
   "metadata": {},
   "outputs": [],
   "source": [
    "dataset=pd.read_csv(\"filtered_app_incident_updated.csv\")"
   ]
  },
  {
   "cell_type": "code",
   "execution_count": 3,
   "id": "92e0c392-d9a9-4052-9a7a-018c35952ee2",
   "metadata": {},
   "outputs": [
    {
     "data": {
      "text/html": [
       "<div>\n",
       "<style scoped>\n",
       "    .dataframe tbody tr th:only-of-type {\n",
       "        vertical-align: middle;\n",
       "    }\n",
       "\n",
       "    .dataframe tbody tr th {\n",
       "        vertical-align: top;\n",
       "    }\n",
       "\n",
       "    .dataframe thead th {\n",
       "        text-align: right;\n",
       "    }\n",
       "</style>\n",
       "<table border=\"1\" class=\"dataframe\">\n",
       "  <thead>\n",
       "    <tr style=\"text-align: right;\">\n",
       "      <th></th>\n",
       "      <th>app_name</th>\n",
       "      <th>response_time</th>\n",
       "      <th>error_rate</th>\n",
       "      <th>cpu_usage</th>\n",
       "      <th>memory_usage</th>\n",
       "      <th>disk_space</th>\n",
       "      <th>active_users</th>\n",
       "      <th>incident_duration</th>\n",
       "      <th>downtime</th>\n",
       "    </tr>\n",
       "  </thead>\n",
       "  <tbody>\n",
       "    <tr>\n",
       "      <th>0</th>\n",
       "      <td>NIP</td>\n",
       "      <td>22</td>\n",
       "      <td>61</td>\n",
       "      <td>32</td>\n",
       "      <td>42</td>\n",
       "      <td>52</td>\n",
       "      <td>12000</td>\n",
       "      <td>1</td>\n",
       "      <td>1</td>\n",
       "    </tr>\n",
       "    <tr>\n",
       "      <th>1</th>\n",
       "      <td>NIP</td>\n",
       "      <td>18</td>\n",
       "      <td>89</td>\n",
       "      <td>28</td>\n",
       "      <td>38</td>\n",
       "      <td>48</td>\n",
       "      <td>8000</td>\n",
       "      <td>1</td>\n",
       "      <td>1</td>\n",
       "    </tr>\n",
       "    <tr>\n",
       "      <th>2</th>\n",
       "      <td>NIP</td>\n",
       "      <td>14</td>\n",
       "      <td>61</td>\n",
       "      <td>24</td>\n",
       "      <td>34</td>\n",
       "      <td>44</td>\n",
       "      <td>4000</td>\n",
       "      <td>1</td>\n",
       "      <td>1</td>\n",
       "    </tr>\n",
       "    <tr>\n",
       "      <th>3</th>\n",
       "      <td>NIP</td>\n",
       "      <td>10</td>\n",
       "      <td>90</td>\n",
       "      <td>20</td>\n",
       "      <td>30</td>\n",
       "      <td>40</td>\n",
       "      <td>0</td>\n",
       "      <td>1</td>\n",
       "      <td>1</td>\n",
       "    </tr>\n",
       "    <tr>\n",
       "      <th>4</th>\n",
       "      <td>NIP</td>\n",
       "      <td>14</td>\n",
       "      <td>87</td>\n",
       "      <td>24</td>\n",
       "      <td>34</td>\n",
       "      <td>44</td>\n",
       "      <td>4000</td>\n",
       "      <td>1</td>\n",
       "      <td>1</td>\n",
       "    </tr>\n",
       "    <tr>\n",
       "      <th>...</th>\n",
       "      <td>...</td>\n",
       "      <td>...</td>\n",
       "      <td>...</td>\n",
       "      <td>...</td>\n",
       "      <td>...</td>\n",
       "      <td>...</td>\n",
       "      <td>...</td>\n",
       "      <td>...</td>\n",
       "      <td>...</td>\n",
       "    </tr>\n",
       "    <tr>\n",
       "      <th>1543</th>\n",
       "      <td>NIP</td>\n",
       "      <td>20</td>\n",
       "      <td>28</td>\n",
       "      <td>30</td>\n",
       "      <td>40</td>\n",
       "      <td>50</td>\n",
       "      <td>10000</td>\n",
       "      <td>0</td>\n",
       "      <td>0</td>\n",
       "    </tr>\n",
       "    <tr>\n",
       "      <th>1544</th>\n",
       "      <td>NIP</td>\n",
       "      <td>21</td>\n",
       "      <td>50</td>\n",
       "      <td>31</td>\n",
       "      <td>41</td>\n",
       "      <td>51</td>\n",
       "      <td>11000</td>\n",
       "      <td>0</td>\n",
       "      <td>0</td>\n",
       "    </tr>\n",
       "    <tr>\n",
       "      <th>1545</th>\n",
       "      <td>NIP</td>\n",
       "      <td>22</td>\n",
       "      <td>33</td>\n",
       "      <td>32</td>\n",
       "      <td>42</td>\n",
       "      <td>52</td>\n",
       "      <td>12000</td>\n",
       "      <td>0</td>\n",
       "      <td>0</td>\n",
       "    </tr>\n",
       "    <tr>\n",
       "      <th>1546</th>\n",
       "      <td>NIP</td>\n",
       "      <td>21</td>\n",
       "      <td>11</td>\n",
       "      <td>31</td>\n",
       "      <td>41</td>\n",
       "      <td>51</td>\n",
       "      <td>11000</td>\n",
       "      <td>0</td>\n",
       "      <td>0</td>\n",
       "    </tr>\n",
       "    <tr>\n",
       "      <th>1547</th>\n",
       "      <td>NIP</td>\n",
       "      <td>20</td>\n",
       "      <td>37</td>\n",
       "      <td>30</td>\n",
       "      <td>40</td>\n",
       "      <td>50</td>\n",
       "      <td>10000</td>\n",
       "      <td>0</td>\n",
       "      <td>0</td>\n",
       "    </tr>\n",
       "  </tbody>\n",
       "</table>\n",
       "<p>1548 rows × 9 columns</p>\n",
       "</div>"
      ],
      "text/plain": [
       "     app_name  response_time  error_rate  cpu_usage  memory_usage  disk_space  \\\n",
       "0         NIP             22          61         32            42          52   \n",
       "1         NIP             18          89         28            38          48   \n",
       "2         NIP             14          61         24            34          44   \n",
       "3         NIP             10          90         20            30          40   \n",
       "4         NIP             14          87         24            34          44   \n",
       "...       ...            ...         ...        ...           ...         ...   \n",
       "1543      NIP             20          28         30            40          50   \n",
       "1544      NIP             21          50         31            41          51   \n",
       "1545      NIP             22          33         32            42          52   \n",
       "1546      NIP             21          11         31            41          51   \n",
       "1547      NIP             20          37         30            40          50   \n",
       "\n",
       "      active_users  incident_duration  downtime  \n",
       "0            12000                  1         1  \n",
       "1             8000                  1         1  \n",
       "2             4000                  1         1  \n",
       "3                0                  1         1  \n",
       "4             4000                  1         1  \n",
       "...            ...                ...       ...  \n",
       "1543         10000                  0         0  \n",
       "1544         11000                  0         0  \n",
       "1545         12000                  0         0  \n",
       "1546         11000                  0         0  \n",
       "1547         10000                  0         0  \n",
       "\n",
       "[1548 rows x 9 columns]"
      ]
     },
     "execution_count": 3,
     "metadata": {},
     "output_type": "execute_result"
    }
   ],
   "source": [
    "dataset"
   ]
  },
  {
   "cell_type": "markdown",
   "id": "b032bc62-d545-475f-b37c-1acfd8f30785",
   "metadata": {},
   "source": [
    "## Finding null values and replacing them"
   ]
  },
  {
   "cell_type": "code",
   "execution_count": 4,
   "id": "34628aee-203a-49ed-b030-59f71e86ee25",
   "metadata": {},
   "outputs": [
    {
     "data": {
      "text/plain": [
       "app_name             0\n",
       "response_time        0\n",
       "error_rate           0\n",
       "cpu_usage            0\n",
       "memory_usage         0\n",
       "disk_space           0\n",
       "active_users         0\n",
       "incident_duration    0\n",
       "downtime             0\n",
       "dtype: int64"
      ]
     },
     "execution_count": 4,
     "metadata": {},
     "output_type": "execute_result"
    }
   ],
   "source": [
    "dataset.isnull().sum()"
   ]
  },
  {
   "cell_type": "markdown",
   "id": "40013360-9949-4329-b891-5ecc5f330c79",
   "metadata": {},
   "source": [
    "## Finding the information about the dataset (dtype) object or integer that column contains"
   ]
  },
  {
   "cell_type": "code",
   "execution_count": 5,
   "id": "88824414-d6c9-4cd9-8c66-924413d448ea",
   "metadata": {},
   "outputs": [
    {
     "name": "stdout",
     "output_type": "stream",
     "text": [
      "<class 'pandas.core.frame.DataFrame'>\n",
      "RangeIndex: 1548 entries, 0 to 1547\n",
      "Data columns (total 9 columns):\n",
      " #   Column             Non-Null Count  Dtype \n",
      "---  ------             --------------  ----- \n",
      " 0   app_name           1548 non-null   object\n",
      " 1   response_time      1548 non-null   int64 \n",
      " 2   error_rate         1548 non-null   int64 \n",
      " 3   cpu_usage          1548 non-null   int64 \n",
      " 4   memory_usage       1548 non-null   int64 \n",
      " 5   disk_space         1548 non-null   int64 \n",
      " 6   active_users       1548 non-null   int64 \n",
      " 7   incident_duration  1548 non-null   int64 \n",
      " 8   downtime           1548 non-null   int64 \n",
      "dtypes: int64(8), object(1)\n",
      "memory usage: 109.0+ KB\n"
     ]
    }
   ],
   "source": [
    "dataset.info()"
   ]
  },
  {
   "cell_type": "markdown",
   "id": "f44b6d05-5986-480a-9c8d-d2d37417bd1a",
   "metadata": {},
   "source": [
    "## Dataset shape for downtime and incident_duration"
   ]
  },
  {
   "cell_type": "code",
   "execution_count": 6,
   "id": "ef8d5b66-9094-46ba-a7db-294c7705b6ca",
   "metadata": {
    "scrolled": true
   },
   "outputs": [
    {
     "data": {
      "text/plain": [
       "downtime\n",
       "0    1000\n",
       "1     548\n",
       "Name: count, dtype: int64"
      ]
     },
     "execution_count": 6,
     "metadata": {},
     "output_type": "execute_result"
    }
   ],
   "source": [
    "dataset['downtime'].value_counts()"
   ]
  },
  {
   "cell_type": "code",
   "execution_count": 7,
   "id": "0b19464b-b2e4-44fa-934b-b533b8d4eef6",
   "metadata": {},
   "outputs": [
    {
     "data": {
      "text/plain": [
       "incident_duration\n",
       "0    1000\n",
       "1     548\n",
       "Name: count, dtype: int64"
      ]
     },
     "execution_count": 7,
     "metadata": {},
     "output_type": "execute_result"
    }
   ],
   "source": [
    "dataset['incident_duration'].value_counts()"
   ]
  },
  {
   "cell_type": "markdown",
   "id": "43b3c84f-5c0f-460e-9fbc-14a2b12157e3",
   "metadata": {},
   "source": [
    "## Downsampling the dataset to balance the dataset"
   ]
  },
  {
   "cell_type": "code",
   "execution_count": 8,
   "id": "99bbc216-0c52-4b7b-83a8-e141f0984860",
   "metadata": {},
   "outputs": [],
   "source": [
    "from sklearn.utils import resample\n",
    "import pandas as pd\n",
    "\n",
    "# Load the dataset\n",
    "data = pd.read_csv('filtered_app_incident_updated.csv')  # Replace with your file path\n",
    "\n",
    "# Separate the dataset into two groups based on the 'downtime' column\n",
    "majority_class = data[data['downtime'] == 0]\n",
    "minority_class = data[data['downtime'] == 1]\n",
    "\n",
    "# Downsample the majority class to match the size of the minority class\n",
    "majority_downsampled = resample(majority_class, \n",
    "                                replace=False,  # sample without replacement\n",
    "                                n_samples=len(minority_class),  # match minority class size\n",
    "                                random_state=42)  # for reproducibility\n",
    "\n",
    "# Combine the downsampled majority class with the minority class\n",
    "balanced_data = pd.concat([majority_downsampled, minority_class])\n",
    "\n",
    "# Shuffle the resulting dataset\n",
    "balanced_data = balanced_data.sample(frac=1, random_state=42).reset_index(drop=True)\n",
    "\n",
    "# Save the balanced dataset\n",
    "balanced_data.to_csv('balanced_dataset.csv', index=False)  # Replace with your desired file path"
   ]
  },
  {
   "cell_type": "markdown",
   "id": "c6ec7e25-fc45-44c3-b006-9e259842541d",
   "metadata": {},
   "source": [
    "## After downsampling checking for shape of dataset"
   ]
  },
  {
   "cell_type": "code",
   "execution_count": 9,
   "id": "fb4cf900-2d75-4293-986e-86c373c76557",
   "metadata": {},
   "outputs": [
    {
     "data": {
      "text/plain": [
       "downtime\n",
       "0    548\n",
       "1    548\n",
       "Name: count, dtype: int64"
      ]
     },
     "execution_count": 9,
     "metadata": {},
     "output_type": "execute_result"
    }
   ],
   "source": [
    "balanced_data['downtime'].value_counts()"
   ]
  },
  {
   "cell_type": "markdown",
   "id": "e05ff4f0-c0b3-4f8c-80e3-f0f4d3e6ac28",
   "metadata": {},
   "source": [
    "## seperating the quan and qual"
   ]
  },
  {
   "cell_type": "code",
   "execution_count": 10,
   "id": "876bbb64-dd68-4d09-86c6-10bad6095252",
   "metadata": {},
   "outputs": [],
   "source": [
    "def quanQual(balanced_data):\n",
    "    quan=[]\n",
    "    qual=[]\n",
    "    for columnName in balanced_data.columns:\n",
    "        print(columnName)\n",
    "        if(balanced_data[columnName].dtype=='object'):\n",
    "            print(\"qual\")\n",
    "            qual.append(columnName)\n",
    "        else:\n",
    "            print(\"quan\")\n",
    "            quan.append(columnName)\n",
    "    return quan,qual"
   ]
  },
  {
   "cell_type": "code",
   "execution_count": 11,
   "id": "6dd1241a-3dde-4a2f-921e-6fbbaec09ccc",
   "metadata": {},
   "outputs": [
    {
     "name": "stdout",
     "output_type": "stream",
     "text": [
      "app_name\n",
      "qual\n",
      "response_time\n",
      "quan\n",
      "error_rate\n",
      "quan\n",
      "cpu_usage\n",
      "quan\n",
      "memory_usage\n",
      "quan\n",
      "disk_space\n",
      "quan\n",
      "active_users\n",
      "quan\n",
      "incident_duration\n",
      "quan\n",
      "downtime\n",
      "quan\n"
     ]
    }
   ],
   "source": [
    "quan,qual=quanQual(balanced_data)"
   ]
  },
  {
   "cell_type": "code",
   "execution_count": 12,
   "id": "5c77f547-c8bb-44c1-94aa-5e656f1508a0",
   "metadata": {},
   "outputs": [
    {
     "data": {
      "text/plain": [
       "['response_time',\n",
       " 'error_rate',\n",
       " 'cpu_usage',\n",
       " 'memory_usage',\n",
       " 'disk_space',\n",
       " 'active_users',\n",
       " 'incident_duration',\n",
       " 'downtime']"
      ]
     },
     "execution_count": 12,
     "metadata": {},
     "output_type": "execute_result"
    }
   ],
   "source": [
    "quan"
   ]
  },
  {
   "cell_type": "code",
   "execution_count": 13,
   "id": "6fe195b3-676b-4277-9656-27121c63546b",
   "metadata": {},
   "outputs": [
    {
     "data": {
      "text/plain": [
       "['app_name']"
      ]
     },
     "execution_count": 13,
     "metadata": {},
     "output_type": "execute_result"
    }
   ],
   "source": [
    "qual"
   ]
  },
  {
   "cell_type": "markdown",
   "id": "cadf1947-e607-488e-8860-0a0f4e5cf67b",
   "metadata": {},
   "source": [
    "## Basic information of dataset by Dataframe to view"
   ]
  },
  {
   "cell_type": "code",
   "execution_count": 14,
   "id": "7f88b7fd-e0ba-4a0a-baef-c608983e18a2",
   "metadata": {},
   "outputs": [
    {
     "data": {
      "text/html": [
       "<div>\n",
       "<style scoped>\n",
       "    .dataframe tbody tr th:only-of-type {\n",
       "        vertical-align: middle;\n",
       "    }\n",
       "\n",
       "    .dataframe tbody tr th {\n",
       "        vertical-align: top;\n",
       "    }\n",
       "\n",
       "    .dataframe thead th {\n",
       "        text-align: right;\n",
       "    }\n",
       "</style>\n",
       "<table border=\"1\" class=\"dataframe\">\n",
       "  <thead>\n",
       "    <tr style=\"text-align: right;\">\n",
       "      <th></th>\n",
       "      <th>response_time</th>\n",
       "      <th>error_rate</th>\n",
       "      <th>cpu_usage</th>\n",
       "      <th>memory_usage</th>\n",
       "      <th>disk_space</th>\n",
       "      <th>active_users</th>\n",
       "      <th>incident_duration</th>\n",
       "      <th>downtime</th>\n",
       "    </tr>\n",
       "  </thead>\n",
       "  <tbody>\n",
       "    <tr>\n",
       "      <th>count</th>\n",
       "      <td>1096.000000</td>\n",
       "      <td>1096.000000</td>\n",
       "      <td>1096.000000</td>\n",
       "      <td>1096.000000</td>\n",
       "      <td>1096.000000</td>\n",
       "      <td>1096.000000</td>\n",
       "      <td>1096.000000</td>\n",
       "      <td>1096.000000</td>\n",
       "    </tr>\n",
       "    <tr>\n",
       "      <th>mean</th>\n",
       "      <td>16.076642</td>\n",
       "      <td>51.979015</td>\n",
       "      <td>26.076642</td>\n",
       "      <td>36.076642</td>\n",
       "      <td>46.076642</td>\n",
       "      <td>6076.642336</td>\n",
       "      <td>0.500000</td>\n",
       "      <td>0.500000</td>\n",
       "    </tr>\n",
       "    <tr>\n",
       "      <th>std</th>\n",
       "      <td>3.676106</td>\n",
       "      <td>28.945272</td>\n",
       "      <td>3.676106</td>\n",
       "      <td>3.676106</td>\n",
       "      <td>3.676106</td>\n",
       "      <td>3676.105996</td>\n",
       "      <td>0.500228</td>\n",
       "      <td>0.500228</td>\n",
       "    </tr>\n",
       "    <tr>\n",
       "      <th>min</th>\n",
       "      <td>10.000000</td>\n",
       "      <td>1.000000</td>\n",
       "      <td>20.000000</td>\n",
       "      <td>30.000000</td>\n",
       "      <td>40.000000</td>\n",
       "      <td>0.000000</td>\n",
       "      <td>0.000000</td>\n",
       "      <td>0.000000</td>\n",
       "    </tr>\n",
       "    <tr>\n",
       "      <th>25%</th>\n",
       "      <td>14.000000</td>\n",
       "      <td>27.000000</td>\n",
       "      <td>24.000000</td>\n",
       "      <td>34.000000</td>\n",
       "      <td>44.000000</td>\n",
       "      <td>4000.000000</td>\n",
       "      <td>0.000000</td>\n",
       "      <td>0.000000</td>\n",
       "    </tr>\n",
       "    <tr>\n",
       "      <th>50%</th>\n",
       "      <td>16.000000</td>\n",
       "      <td>53.000000</td>\n",
       "      <td>26.000000</td>\n",
       "      <td>36.000000</td>\n",
       "      <td>46.000000</td>\n",
       "      <td>6000.000000</td>\n",
       "      <td>0.500000</td>\n",
       "      <td>0.500000</td>\n",
       "    </tr>\n",
       "    <tr>\n",
       "      <th>75%</th>\n",
       "      <td>18.000000</td>\n",
       "      <td>77.250000</td>\n",
       "      <td>28.000000</td>\n",
       "      <td>38.000000</td>\n",
       "      <td>48.000000</td>\n",
       "      <td>8000.000000</td>\n",
       "      <td>1.000000</td>\n",
       "      <td>1.000000</td>\n",
       "    </tr>\n",
       "    <tr>\n",
       "      <th>max</th>\n",
       "      <td>22.000000</td>\n",
       "      <td>100.000000</td>\n",
       "      <td>32.000000</td>\n",
       "      <td>42.000000</td>\n",
       "      <td>52.000000</td>\n",
       "      <td>12000.000000</td>\n",
       "      <td>1.000000</td>\n",
       "      <td>1.000000</td>\n",
       "    </tr>\n",
       "  </tbody>\n",
       "</table>\n",
       "</div>"
      ],
      "text/plain": [
       "       response_time   error_rate    cpu_usage  memory_usage   disk_space  \\\n",
       "count    1096.000000  1096.000000  1096.000000   1096.000000  1096.000000   \n",
       "mean       16.076642    51.979015    26.076642     36.076642    46.076642   \n",
       "std         3.676106    28.945272     3.676106      3.676106     3.676106   \n",
       "min        10.000000     1.000000    20.000000     30.000000    40.000000   \n",
       "25%        14.000000    27.000000    24.000000     34.000000    44.000000   \n",
       "50%        16.000000    53.000000    26.000000     36.000000    46.000000   \n",
       "75%        18.000000    77.250000    28.000000     38.000000    48.000000   \n",
       "max        22.000000   100.000000    32.000000     42.000000    52.000000   \n",
       "\n",
       "       active_users  incident_duration     downtime  \n",
       "count   1096.000000        1096.000000  1096.000000  \n",
       "mean    6076.642336           0.500000     0.500000  \n",
       "std     3676.105996           0.500228     0.500228  \n",
       "min        0.000000           0.000000     0.000000  \n",
       "25%     4000.000000           0.000000     0.000000  \n",
       "50%     6000.000000           0.500000     0.500000  \n",
       "75%     8000.000000           1.000000     1.000000  \n",
       "max    12000.000000           1.000000     1.000000  "
      ]
     },
     "execution_count": 14,
     "metadata": {},
     "output_type": "execute_result"
    }
   ],
   "source": [
    "balanced_data.describe()"
   ]
  },
  {
   "cell_type": "markdown",
   "id": "520fbb0a-2809-4daa-ba16-3dcbfd082ffb",
   "metadata": {},
   "source": [
    "## Measure of central tendency, quartile, 1.5 rule, minimum, maximum"
   ]
  },
  {
   "cell_type": "code",
   "execution_count": 15,
   "id": "1d901bdb-8650-4a43-a49d-3848b95266c3",
   "metadata": {
    "scrolled": true
   },
   "outputs": [],
   "source": [
    "descriptive = pd.DataFrame(index=[\"mean\", \"median\", \"mode\", \"Q1:25%\", \"Q2:50%\", \"Q3:75%\", \"Q4:100%\",\n",
    "                                  \"IQR\", \"1.5rule\", \"Lesser\", \"Greater\", \"Min\", \"Max\"], columns=quan)\n",
    "\n",
    "for columnName in quan:\n",
    "    descriptive.loc[\"mean\", columnName] = balanced_data[columnName].mean()\n",
    "    descriptive.loc[\"median\", columnName] = balanced_data[columnName].median()\n",
    "    descriptive.loc[\"mode\", columnName] = balanced_data[columnName].mode()[0]\n",
    "    descriptive.loc[\"Q1:25%\", columnName] = balanced_data.describe()[columnName][\"25%\"]\n",
    "    descriptive.loc[\"Q2:50%\", columnName] = balanced_data.describe()[columnName][\"50%\"]\n",
    "    descriptive.loc[\"Q3:75%\", columnName] = balanced_data.describe()[columnName][\"75%\"]\n",
    "    descriptive.loc[\"Q4:100%\", columnName] = balanced_data.describe()[columnName][\"max\"]\n",
    "    descriptive.loc[\"IQR\", columnName] = descriptive.loc[\"Q3:75%\", columnName] - descriptive.loc[\"Q1:25%\", columnName]\n",
    "    descriptive.loc[\"1.5rule\", columnName] = 1.5 * descriptive.loc[\"IQR\", columnName]\n",
    "    descriptive.loc[\"Lesser\", columnName] = descriptive.loc[\"Q1:25%\", columnName] - descriptive.loc[\"1.5rule\", columnName]\n",
    "    descriptive.loc[\"Greater\", columnName] = descriptive.loc[\"Q3:75%\", columnName] + descriptive.loc[\"1.5rule\", columnName]\n",
    "    descriptive.loc[\"Min\", columnName] = balanced_data[columnName].min()\n",
    "    descriptive.loc[\"Max\", columnName] = balanced_data[columnName].max()\n"
   ]
  },
  {
   "cell_type": "code",
   "execution_count": 16,
   "id": "3c84a758-8156-42d8-86e8-8ff5bad0bd20",
   "metadata": {},
   "outputs": [
    {
     "data": {
      "text/html": [
       "<div>\n",
       "<style scoped>\n",
       "    .dataframe tbody tr th:only-of-type {\n",
       "        vertical-align: middle;\n",
       "    }\n",
       "\n",
       "    .dataframe tbody tr th {\n",
       "        vertical-align: top;\n",
       "    }\n",
       "\n",
       "    .dataframe thead th {\n",
       "        text-align: right;\n",
       "    }\n",
       "</style>\n",
       "<table border=\"1\" class=\"dataframe\">\n",
       "  <thead>\n",
       "    <tr style=\"text-align: right;\">\n",
       "      <th></th>\n",
       "      <th>response_time</th>\n",
       "      <th>error_rate</th>\n",
       "      <th>cpu_usage</th>\n",
       "      <th>memory_usage</th>\n",
       "      <th>disk_space</th>\n",
       "      <th>active_users</th>\n",
       "      <th>incident_duration</th>\n",
       "      <th>downtime</th>\n",
       "    </tr>\n",
       "  </thead>\n",
       "  <tbody>\n",
       "    <tr>\n",
       "      <th>mean</th>\n",
       "      <td>16.076642</td>\n",
       "      <td>51.979015</td>\n",
       "      <td>26.076642</td>\n",
       "      <td>36.076642</td>\n",
       "      <td>46.076642</td>\n",
       "      <td>6076.642336</td>\n",
       "      <td>0.5</td>\n",
       "      <td>0.5</td>\n",
       "    </tr>\n",
       "    <tr>\n",
       "      <th>median</th>\n",
       "      <td>16.0</td>\n",
       "      <td>53.0</td>\n",
       "      <td>26.0</td>\n",
       "      <td>36.0</td>\n",
       "      <td>46.0</td>\n",
       "      <td>6000.0</td>\n",
       "      <td>0.5</td>\n",
       "      <td>0.5</td>\n",
       "    </tr>\n",
       "    <tr>\n",
       "      <th>mode</th>\n",
       "      <td>18</td>\n",
       "      <td>53</td>\n",
       "      <td>28</td>\n",
       "      <td>38</td>\n",
       "      <td>48</td>\n",
       "      <td>8000</td>\n",
       "      <td>0</td>\n",
       "      <td>0</td>\n",
       "    </tr>\n",
       "    <tr>\n",
       "      <th>Q1:25%</th>\n",
       "      <td>14.0</td>\n",
       "      <td>27.0</td>\n",
       "      <td>24.0</td>\n",
       "      <td>34.0</td>\n",
       "      <td>44.0</td>\n",
       "      <td>4000.0</td>\n",
       "      <td>0.0</td>\n",
       "      <td>0.0</td>\n",
       "    </tr>\n",
       "    <tr>\n",
       "      <th>Q2:50%</th>\n",
       "      <td>16.0</td>\n",
       "      <td>53.0</td>\n",
       "      <td>26.0</td>\n",
       "      <td>36.0</td>\n",
       "      <td>46.0</td>\n",
       "      <td>6000.0</td>\n",
       "      <td>0.5</td>\n",
       "      <td>0.5</td>\n",
       "    </tr>\n",
       "    <tr>\n",
       "      <th>Q3:75%</th>\n",
       "      <td>18.0</td>\n",
       "      <td>77.25</td>\n",
       "      <td>28.0</td>\n",
       "      <td>38.0</td>\n",
       "      <td>48.0</td>\n",
       "      <td>8000.0</td>\n",
       "      <td>1.0</td>\n",
       "      <td>1.0</td>\n",
       "    </tr>\n",
       "    <tr>\n",
       "      <th>Q4:100%</th>\n",
       "      <td>22.0</td>\n",
       "      <td>100.0</td>\n",
       "      <td>32.0</td>\n",
       "      <td>42.0</td>\n",
       "      <td>52.0</td>\n",
       "      <td>12000.0</td>\n",
       "      <td>1.0</td>\n",
       "      <td>1.0</td>\n",
       "    </tr>\n",
       "    <tr>\n",
       "      <th>IQR</th>\n",
       "      <td>4.0</td>\n",
       "      <td>50.25</td>\n",
       "      <td>4.0</td>\n",
       "      <td>4.0</td>\n",
       "      <td>4.0</td>\n",
       "      <td>4000.0</td>\n",
       "      <td>1.0</td>\n",
       "      <td>1.0</td>\n",
       "    </tr>\n",
       "    <tr>\n",
       "      <th>1.5rule</th>\n",
       "      <td>6.0</td>\n",
       "      <td>75.375</td>\n",
       "      <td>6.0</td>\n",
       "      <td>6.0</td>\n",
       "      <td>6.0</td>\n",
       "      <td>6000.0</td>\n",
       "      <td>1.5</td>\n",
       "      <td>1.5</td>\n",
       "    </tr>\n",
       "    <tr>\n",
       "      <th>Lesser</th>\n",
       "      <td>8.0</td>\n",
       "      <td>-48.375</td>\n",
       "      <td>18.0</td>\n",
       "      <td>28.0</td>\n",
       "      <td>38.0</td>\n",
       "      <td>-2000.0</td>\n",
       "      <td>-1.5</td>\n",
       "      <td>-1.5</td>\n",
       "    </tr>\n",
       "    <tr>\n",
       "      <th>Greater</th>\n",
       "      <td>24.0</td>\n",
       "      <td>152.625</td>\n",
       "      <td>34.0</td>\n",
       "      <td>44.0</td>\n",
       "      <td>54.0</td>\n",
       "      <td>14000.0</td>\n",
       "      <td>2.5</td>\n",
       "      <td>2.5</td>\n",
       "    </tr>\n",
       "    <tr>\n",
       "      <th>Min</th>\n",
       "      <td>10</td>\n",
       "      <td>1</td>\n",
       "      <td>20</td>\n",
       "      <td>30</td>\n",
       "      <td>40</td>\n",
       "      <td>0</td>\n",
       "      <td>0</td>\n",
       "      <td>0</td>\n",
       "    </tr>\n",
       "    <tr>\n",
       "      <th>Max</th>\n",
       "      <td>22</td>\n",
       "      <td>100</td>\n",
       "      <td>32</td>\n",
       "      <td>42</td>\n",
       "      <td>52</td>\n",
       "      <td>12000</td>\n",
       "      <td>1</td>\n",
       "      <td>1</td>\n",
       "    </tr>\n",
       "  </tbody>\n",
       "</table>\n",
       "</div>"
      ],
      "text/plain": [
       "        response_time error_rate  cpu_usage memory_usage disk_space  \\\n",
       "mean        16.076642  51.979015  26.076642    36.076642  46.076642   \n",
       "median           16.0       53.0       26.0         36.0       46.0   \n",
       "mode               18         53         28           38         48   \n",
       "Q1:25%           14.0       27.0       24.0         34.0       44.0   \n",
       "Q2:50%           16.0       53.0       26.0         36.0       46.0   \n",
       "Q3:75%           18.0      77.25       28.0         38.0       48.0   \n",
       "Q4:100%          22.0      100.0       32.0         42.0       52.0   \n",
       "IQR               4.0      50.25        4.0          4.0        4.0   \n",
       "1.5rule           6.0     75.375        6.0          6.0        6.0   \n",
       "Lesser            8.0    -48.375       18.0         28.0       38.0   \n",
       "Greater          24.0    152.625       34.0         44.0       54.0   \n",
       "Min                10          1         20           30         40   \n",
       "Max                22        100         32           42         52   \n",
       "\n",
       "        active_users incident_duration downtime  \n",
       "mean     6076.642336               0.5      0.5  \n",
       "median        6000.0               0.5      0.5  \n",
       "mode            8000                 0        0  \n",
       "Q1:25%        4000.0               0.0      0.0  \n",
       "Q2:50%        6000.0               0.5      0.5  \n",
       "Q3:75%        8000.0               1.0      1.0  \n",
       "Q4:100%      12000.0               1.0      1.0  \n",
       "IQR           4000.0               1.0      1.0  \n",
       "1.5rule       6000.0               1.5      1.5  \n",
       "Lesser       -2000.0              -1.5     -1.5  \n",
       "Greater      14000.0               2.5      2.5  \n",
       "Min                0                 0        0  \n",
       "Max            12000                 1        1  "
      ]
     },
     "execution_count": 16,
     "metadata": {},
     "output_type": "execute_result"
    }
   ],
   "source": [
    "descriptive"
   ]
  },
  {
   "cell_type": "markdown",
   "id": "9278a7d5-a6b1-4b57-9ccd-0c19de708baa",
   "metadata": {},
   "source": [
    "## Finding outliers"
   ]
  },
  {
   "cell_type": "code",
   "execution_count": 17,
   "id": "cb6d5f58-5b9a-4f30-b468-0f6767be1b5b",
   "metadata": {},
   "outputs": [],
   "source": [
    "lesser=[]\n",
    "greater=[]\n",
    "\n",
    "for columnName in quan:\n",
    "    if(descriptive[columnName][\"Min\"]<descriptive[columnName][\"Lesser\"]):\n",
    "        lesser.append(columnName)\n",
    "    if(descriptive[columnName][\"Max\"]>descriptive[columnName][\"Greater\"]):\n",
    "        greater.append(columnName)"
   ]
  },
  {
   "cell_type": "code",
   "execution_count": 18,
   "id": "56296333-2e18-4bd1-a2e4-25decdec678a",
   "metadata": {},
   "outputs": [
    {
     "name": "stdout",
     "output_type": "stream",
     "text": [
      "Lesser: []\n",
      "Greater: []\n"
     ]
    }
   ],
   "source": [
    "print(\"Lesser:\", lesser)\n",
    "print(\"Greater:\", greater)"
   ]
  },
  {
   "cell_type": "markdown",
   "id": "30394997-5f8b-4b36-b610-695925ca0fd7",
   "metadata": {},
   "source": [
    "## If any outliers are formed to replacing the outliers"
   ]
  },
  {
   "cell_type": "code",
   "execution_count": 19,
   "id": "3cb34b7f-9d26-4f2b-97f2-d260bacc5c64",
   "metadata": {},
   "outputs": [],
   "source": [
    "for columnName in lesser:\n",
    "    dataset[columnName][balanced_data[columnName]<descriptive[columnName][\"Lesser\"]]=descriptive[columnName][\"Lesser\"]\n",
    "for columnName in greater:\n",
    "    dataset[columnName][balanced_data[columnName]>descriptive[columnName][\"Greater\"]]=descriptive[columnName][\"Greater\"]\n"
   ]
  },
  {
   "cell_type": "code",
   "execution_count": 20,
   "id": "1ef9dee7-8dab-4b69-b4f7-327102e07bf1",
   "metadata": {},
   "outputs": [
    {
     "data": {
      "text/plain": [
       "[]"
      ]
     },
     "execution_count": 20,
     "metadata": {},
     "output_type": "execute_result"
    }
   ],
   "source": [
    "lesser"
   ]
  },
  {
   "cell_type": "code",
   "execution_count": 21,
   "id": "3a57e001-ee22-41d2-9fab-4390f82adcaf",
   "metadata": {},
   "outputs": [
    {
     "data": {
      "text/plain": [
       "[]"
      ]
     },
     "execution_count": 21,
     "metadata": {},
     "output_type": "execute_result"
    }
   ],
   "source": [
    "greater"
   ]
  },
  {
   "cell_type": "markdown",
   "id": "5b8390b7-2a49-482e-9fff-166002ea0219",
   "metadata": {},
   "source": [
    "## FREQUENCY"
   ]
  },
  {
   "cell_type": "code",
   "execution_count": 22,
   "id": "9bf2c1c8-1326-4232-929c-38173291dd8e",
   "metadata": {},
   "outputs": [
    {
     "data": {
      "text/html": [
       "<div>\n",
       "<style scoped>\n",
       "    .dataframe tbody tr th:only-of-type {\n",
       "        vertical-align: middle;\n",
       "    }\n",
       "\n",
       "    .dataframe tbody tr th {\n",
       "        vertical-align: top;\n",
       "    }\n",
       "\n",
       "    .dataframe thead th {\n",
       "        text-align: right;\n",
       "    }\n",
       "</style>\n",
       "<table border=\"1\" class=\"dataframe\">\n",
       "  <thead>\n",
       "    <tr style=\"text-align: right;\">\n",
       "      <th></th>\n",
       "      <th>unique_values</th>\n",
       "      <th>Frequency</th>\n",
       "      <th>Relative_frequency</th>\n",
       "      <th>Cumsum</th>\n",
       "    </tr>\n",
       "  </thead>\n",
       "  <tbody>\n",
       "  </tbody>\n",
       "</table>\n",
       "</div>"
      ],
      "text/plain": [
       "Empty DataFrame\n",
       "Columns: [unique_values, Frequency, Relative_frequency, Cumsum]\n",
       "Index: []"
      ]
     },
     "execution_count": 22,
     "metadata": {},
     "output_type": "execute_result"
    }
   ],
   "source": [
    "freqTable=pd.DataFrame(columns=[\"unique_values\",\"Frequency\",\"Relative_frequency\",\"Cumsum\"])\n",
    "freqTable"
   ]
  },
  {
   "cell_type": "code",
   "execution_count": 23,
   "id": "2ab98c58-65f8-4ee0-87b6-2b22ffe5d699",
   "metadata": {},
   "outputs": [],
   "source": [
    "def freqTable(columnName,balanced_data):\n",
    "    freqTable=pd.DataFrame(columns=[\"unique_values\",\"Frequency\",\"Relative_frequency\",\"Cumsum\"])\n",
    "    freqTable[\"unique_values\"]=balanced_data[columnName].value_counts().index\n",
    "    freqTable[\"Frequency\"]=balanced_data[columnName].value_counts().values\n",
    "    freqTable[\"Relative_frequency\"]=(freqTable[\"Frequency\"]/103)\n",
    "    freqTable[\"Cumsum\"]=freqTable[\"Relative_frequency\"].cumsum()\n",
    "    return freqTable"
   ]
  },
  {
   "cell_type": "code",
   "execution_count": 24,
   "id": "d845844a-f734-4932-a23a-9cc0b0887cad",
   "metadata": {},
   "outputs": [
    {
     "data": {
      "text/html": [
       "<div>\n",
       "<style scoped>\n",
       "    .dataframe tbody tr th:only-of-type {\n",
       "        vertical-align: middle;\n",
       "    }\n",
       "\n",
       "    .dataframe tbody tr th {\n",
       "        vertical-align: top;\n",
       "    }\n",
       "\n",
       "    .dataframe thead th {\n",
       "        text-align: right;\n",
       "    }\n",
       "</style>\n",
       "<table border=\"1\" class=\"dataframe\">\n",
       "  <thead>\n",
       "    <tr style=\"text-align: right;\">\n",
       "      <th></th>\n",
       "      <th>unique_values</th>\n",
       "      <th>Frequency</th>\n",
       "      <th>Relative_frequency</th>\n",
       "      <th>Cumsum</th>\n",
       "    </tr>\n",
       "  </thead>\n",
       "  <tbody>\n",
       "    <tr>\n",
       "      <th>0</th>\n",
       "      <td>8000</td>\n",
       "      <td>225</td>\n",
       "      <td>2.184466</td>\n",
       "      <td>2.184466</td>\n",
       "    </tr>\n",
       "    <tr>\n",
       "      <th>1</th>\n",
       "      <td>4000</td>\n",
       "      <td>222</td>\n",
       "      <td>2.155340</td>\n",
       "      <td>4.339806</td>\n",
       "    </tr>\n",
       "    <tr>\n",
       "      <th>2</th>\n",
       "      <td>12000</td>\n",
       "      <td>113</td>\n",
       "      <td>1.097087</td>\n",
       "      <td>5.436893</td>\n",
       "    </tr>\n",
       "    <tr>\n",
       "      <th>3</th>\n",
       "      <td>0</td>\n",
       "      <td>111</td>\n",
       "      <td>1.077670</td>\n",
       "      <td>6.514563</td>\n",
       "    </tr>\n",
       "    <tr>\n",
       "      <th>4</th>\n",
       "      <td>11000</td>\n",
       "      <td>52</td>\n",
       "      <td>0.504854</td>\n",
       "      <td>7.019417</td>\n",
       "    </tr>\n",
       "    <tr>\n",
       "      <th>5</th>\n",
       "      <td>9000</td>\n",
       "      <td>50</td>\n",
       "      <td>0.485437</td>\n",
       "      <td>7.504854</td>\n",
       "    </tr>\n",
       "    <tr>\n",
       "      <th>6</th>\n",
       "      <td>10000</td>\n",
       "      <td>50</td>\n",
       "      <td>0.485437</td>\n",
       "      <td>7.990291</td>\n",
       "    </tr>\n",
       "    <tr>\n",
       "      <th>7</th>\n",
       "      <td>6000</td>\n",
       "      <td>49</td>\n",
       "      <td>0.475728</td>\n",
       "      <td>8.466019</td>\n",
       "    </tr>\n",
       "    <tr>\n",
       "      <th>8</th>\n",
       "      <td>7000</td>\n",
       "      <td>48</td>\n",
       "      <td>0.466019</td>\n",
       "      <td>8.932039</td>\n",
       "    </tr>\n",
       "    <tr>\n",
       "      <th>9</th>\n",
       "      <td>1000</td>\n",
       "      <td>47</td>\n",
       "      <td>0.456311</td>\n",
       "      <td>9.388350</td>\n",
       "    </tr>\n",
       "    <tr>\n",
       "      <th>10</th>\n",
       "      <td>2000</td>\n",
       "      <td>46</td>\n",
       "      <td>0.446602</td>\n",
       "      <td>9.834951</td>\n",
       "    </tr>\n",
       "    <tr>\n",
       "      <th>11</th>\n",
       "      <td>3000</td>\n",
       "      <td>45</td>\n",
       "      <td>0.436893</td>\n",
       "      <td>10.271845</td>\n",
       "    </tr>\n",
       "    <tr>\n",
       "      <th>12</th>\n",
       "      <td>5000</td>\n",
       "      <td>38</td>\n",
       "      <td>0.368932</td>\n",
       "      <td>10.640777</td>\n",
       "    </tr>\n",
       "  </tbody>\n",
       "</table>\n",
       "</div>"
      ],
      "text/plain": [
       "    unique_values  Frequency  Relative_frequency     Cumsum\n",
       "0            8000        225            2.184466   2.184466\n",
       "1            4000        222            2.155340   4.339806\n",
       "2           12000        113            1.097087   5.436893\n",
       "3               0        111            1.077670   6.514563\n",
       "4           11000         52            0.504854   7.019417\n",
       "5            9000         50            0.485437   7.504854\n",
       "6           10000         50            0.485437   7.990291\n",
       "7            6000         49            0.475728   8.466019\n",
       "8            7000         48            0.466019   8.932039\n",
       "9            1000         47            0.456311   9.388350\n",
       "10           2000         46            0.446602   9.834951\n",
       "11           3000         45            0.436893  10.271845\n",
       "12           5000         38            0.368932  10.640777"
      ]
     },
     "execution_count": 24,
     "metadata": {},
     "output_type": "execute_result"
    }
   ],
   "source": [
    "freqTable(\"active_users\",balanced_data)"
   ]
  },
  {
   "cell_type": "markdown",
   "id": "8ef24516-73f4-4247-aacc-084afb317558",
   "metadata": {},
   "source": [
    "## skewness, kurtosis, variance and standard deviation"
   ]
  },
  {
   "cell_type": "code",
   "execution_count": 25,
   "id": "1717ae87-2d8e-4ce6-8ec1-d9bad37fdea5",
   "metadata": {},
   "outputs": [],
   "source": [
    "def Univariate(dataset, quan):\n",
    "    descriptive = pd.DataFrame(index=[\"mean\", \"median\", \"mode\", \"Q1:25%\", \"Q2:50%\", \"Q3:75%\", \"Q4:100%\",\n",
    "                                      \"IQR\", \"1.5rule\", \"Lesser\", \"Greater\", \"Min\", \"Max\", \"skew\", \n",
    "                                      \"kurtosis\", \"var\", \"Std\"], columns=quan)\n",
    "    for columnName in quan:\n",
    "        descriptive.loc[\"mean\", columnName] = dataset[columnName].mean()\n",
    "        descriptive.loc[\"median\", columnName] = dataset[columnName].median()\n",
    "        descriptive.loc[\"mode\", columnName] = dataset[columnName].mode()[0]\n",
    "        descriptive.loc[\"Q1:25%\", columnName] = dataset.describe()[columnName][\"25%\"]\n",
    "        descriptive.loc[\"Q2:50%\", columnName] = dataset.describe()[columnName][\"50%\"]\n",
    "        descriptive.loc[\"Q3:75%\", columnName] = dataset.describe()[columnName][\"75%\"]\n",
    "        descriptive.loc[\"Q4:100%\", columnName] = dataset.describe()[columnName][\"max\"]\n",
    "        descriptive.loc[\"IQR\", columnName] = descriptive.loc[\"Q3:75%\", columnName] - descriptive.loc[\"Q1:25%\", columnName]\n",
    "        descriptive.loc[\"1.5rule\", columnName] = 1.5 * descriptive.loc[\"IQR\", columnName]\n",
    "        descriptive.loc[\"Lesser\", columnName] = descriptive.loc[\"Q1:25%\", columnName] - descriptive.loc[\"1.5rule\", columnName]\n",
    "        descriptive.loc[\"Greater\", columnName] = descriptive.loc[\"Q3:75%\", columnName] + descriptive.loc[\"1.5rule\", columnName]\n",
    "        descriptive.loc[\"Min\", columnName] = dataset[columnName].min()\n",
    "        descriptive.loc[\"Max\", columnName] = dataset[columnName].max()\n",
    "        descriptive.loc[\"skew\", columnName] = dataset[columnName].skew()\n",
    "        descriptive.loc[\"kurtosis\", columnName] = dataset[columnName].kurtosis()\n",
    "        descriptive.loc[\"var\", columnName] = dataset[columnName].var()\n",
    "        descriptive.loc[\"Std\", columnName] = dataset[columnName].std()\n",
    "    \n",
    "    return descriptive\n"
   ]
  },
  {
   "cell_type": "code",
   "execution_count": 26,
   "id": "340374ca-8e37-4c98-aca8-c57739f95208",
   "metadata": {},
   "outputs": [
    {
     "data": {
      "text/html": [
       "<div>\n",
       "<style scoped>\n",
       "    .dataframe tbody tr th:only-of-type {\n",
       "        vertical-align: middle;\n",
       "    }\n",
       "\n",
       "    .dataframe tbody tr th {\n",
       "        vertical-align: top;\n",
       "    }\n",
       "\n",
       "    .dataframe thead th {\n",
       "        text-align: right;\n",
       "    }\n",
       "</style>\n",
       "<table border=\"1\" class=\"dataframe\">\n",
       "  <thead>\n",
       "    <tr style=\"text-align: right;\">\n",
       "      <th></th>\n",
       "      <th>response_time</th>\n",
       "      <th>error_rate</th>\n",
       "      <th>cpu_usage</th>\n",
       "      <th>memory_usage</th>\n",
       "      <th>disk_space</th>\n",
       "      <th>active_users</th>\n",
       "      <th>incident_duration</th>\n",
       "      <th>downtime</th>\n",
       "    </tr>\n",
       "  </thead>\n",
       "  <tbody>\n",
       "    <tr>\n",
       "      <th>mean</th>\n",
       "      <td>16.01615</td>\n",
       "      <td>52.082687</td>\n",
       "      <td>26.01615</td>\n",
       "      <td>36.01615</td>\n",
       "      <td>46.01615</td>\n",
       "      <td>6016.149871</td>\n",
       "      <td>0.354005</td>\n",
       "      <td>0.354005</td>\n",
       "    </tr>\n",
       "    <tr>\n",
       "      <th>median</th>\n",
       "      <td>16.0</td>\n",
       "      <td>52.0</td>\n",
       "      <td>26.0</td>\n",
       "      <td>36.0</td>\n",
       "      <td>46.0</td>\n",
       "      <td>6000.0</td>\n",
       "      <td>0.0</td>\n",
       "      <td>0.0</td>\n",
       "    </tr>\n",
       "    <tr>\n",
       "      <th>mode</th>\n",
       "      <td>18</td>\n",
       "      <td>11</td>\n",
       "      <td>28</td>\n",
       "      <td>38</td>\n",
       "      <td>48</td>\n",
       "      <td>8000</td>\n",
       "      <td>0</td>\n",
       "      <td>0</td>\n",
       "    </tr>\n",
       "    <tr>\n",
       "      <th>Q1:25%</th>\n",
       "      <td>14.0</td>\n",
       "      <td>27.0</td>\n",
       "      <td>24.0</td>\n",
       "      <td>34.0</td>\n",
       "      <td>44.0</td>\n",
       "      <td>4000.0</td>\n",
       "      <td>0.0</td>\n",
       "      <td>0.0</td>\n",
       "    </tr>\n",
       "    <tr>\n",
       "      <th>Q2:50%</th>\n",
       "      <td>16.0</td>\n",
       "      <td>52.0</td>\n",
       "      <td>26.0</td>\n",
       "      <td>36.0</td>\n",
       "      <td>46.0</td>\n",
       "      <td>6000.0</td>\n",
       "      <td>0.0</td>\n",
       "      <td>0.0</td>\n",
       "    </tr>\n",
       "    <tr>\n",
       "      <th>Q3:75%</th>\n",
       "      <td>18.25</td>\n",
       "      <td>78.0</td>\n",
       "      <td>28.25</td>\n",
       "      <td>38.25</td>\n",
       "      <td>48.25</td>\n",
       "      <td>8250.0</td>\n",
       "      <td>1.0</td>\n",
       "      <td>1.0</td>\n",
       "    </tr>\n",
       "    <tr>\n",
       "      <th>Q4:100%</th>\n",
       "      <td>22.0</td>\n",
       "      <td>100.0</td>\n",
       "      <td>32.0</td>\n",
       "      <td>42.0</td>\n",
       "      <td>52.0</td>\n",
       "      <td>12000.0</td>\n",
       "      <td>1.0</td>\n",
       "      <td>1.0</td>\n",
       "    </tr>\n",
       "    <tr>\n",
       "      <th>IQR</th>\n",
       "      <td>4.25</td>\n",
       "      <td>51.0</td>\n",
       "      <td>4.25</td>\n",
       "      <td>4.25</td>\n",
       "      <td>4.25</td>\n",
       "      <td>4250.0</td>\n",
       "      <td>1.0</td>\n",
       "      <td>1.0</td>\n",
       "    </tr>\n",
       "    <tr>\n",
       "      <th>1.5rule</th>\n",
       "      <td>6.375</td>\n",
       "      <td>76.5</td>\n",
       "      <td>6.375</td>\n",
       "      <td>6.375</td>\n",
       "      <td>6.375</td>\n",
       "      <td>6375.0</td>\n",
       "      <td>1.5</td>\n",
       "      <td>1.5</td>\n",
       "    </tr>\n",
       "    <tr>\n",
       "      <th>Lesser</th>\n",
       "      <td>7.625</td>\n",
       "      <td>-49.5</td>\n",
       "      <td>17.625</td>\n",
       "      <td>27.625</td>\n",
       "      <td>37.625</td>\n",
       "      <td>-2375.0</td>\n",
       "      <td>-1.5</td>\n",
       "      <td>-1.5</td>\n",
       "    </tr>\n",
       "    <tr>\n",
       "      <th>Greater</th>\n",
       "      <td>24.625</td>\n",
       "      <td>154.5</td>\n",
       "      <td>34.625</td>\n",
       "      <td>44.625</td>\n",
       "      <td>54.625</td>\n",
       "      <td>14625.0</td>\n",
       "      <td>2.5</td>\n",
       "      <td>2.5</td>\n",
       "    </tr>\n",
       "    <tr>\n",
       "      <th>Min</th>\n",
       "      <td>10</td>\n",
       "      <td>1</td>\n",
       "      <td>20</td>\n",
       "      <td>30</td>\n",
       "      <td>40</td>\n",
       "      <td>0</td>\n",
       "      <td>0</td>\n",
       "      <td>0</td>\n",
       "    </tr>\n",
       "    <tr>\n",
       "      <th>Max</th>\n",
       "      <td>22</td>\n",
       "      <td>100</td>\n",
       "      <td>32</td>\n",
       "      <td>42</td>\n",
       "      <td>52</td>\n",
       "      <td>12000</td>\n",
       "      <td>1</td>\n",
       "      <td>1</td>\n",
       "    </tr>\n",
       "    <tr>\n",
       "      <th>skew</th>\n",
       "      <td>-0.004692</td>\n",
       "      <td>-0.063442</td>\n",
       "      <td>-0.004692</td>\n",
       "      <td>-0.004692</td>\n",
       "      <td>-0.004692</td>\n",
       "      <td>-0.004692</td>\n",
       "      <td>0.61118</td>\n",
       "      <td>0.61118</td>\n",
       "    </tr>\n",
       "    <tr>\n",
       "      <th>kurtosis</th>\n",
       "      <td>-1.05572</td>\n",
       "      <td>-1.228256</td>\n",
       "      <td>-1.05572</td>\n",
       "      <td>-1.05572</td>\n",
       "      <td>-1.05572</td>\n",
       "      <td>-1.05572</td>\n",
       "      <td>-1.628564</td>\n",
       "      <td>-1.628564</td>\n",
       "    </tr>\n",
       "    <tr>\n",
       "      <th>var</th>\n",
       "      <td>13.068259</td>\n",
       "      <td>840.643449</td>\n",
       "      <td>13.068259</td>\n",
       "      <td>13.068259</td>\n",
       "      <td>13.068259</td>\n",
       "      <td>13068258.728655</td>\n",
       "      <td>0.228833</td>\n",
       "      <td>0.228833</td>\n",
       "    </tr>\n",
       "    <tr>\n",
       "      <th>Std</th>\n",
       "      <td>3.615005</td>\n",
       "      <td>28.993852</td>\n",
       "      <td>3.615005</td>\n",
       "      <td>3.615005</td>\n",
       "      <td>3.615005</td>\n",
       "      <td>3615.004665</td>\n",
       "      <td>0.478365</td>\n",
       "      <td>0.478365</td>\n",
       "    </tr>\n",
       "  </tbody>\n",
       "</table>\n",
       "</div>"
      ],
      "text/plain": [
       "         response_time  error_rate  cpu_usage memory_usage disk_space  \\\n",
       "mean          16.01615   52.082687   26.01615     36.01615   46.01615   \n",
       "median            16.0        52.0       26.0         36.0       46.0   \n",
       "mode                18          11         28           38         48   \n",
       "Q1:25%            14.0        27.0       24.0         34.0       44.0   \n",
       "Q2:50%            16.0        52.0       26.0         36.0       46.0   \n",
       "Q3:75%           18.25        78.0      28.25        38.25      48.25   \n",
       "Q4:100%           22.0       100.0       32.0         42.0       52.0   \n",
       "IQR               4.25        51.0       4.25         4.25       4.25   \n",
       "1.5rule          6.375        76.5      6.375        6.375      6.375   \n",
       "Lesser           7.625       -49.5     17.625       27.625     37.625   \n",
       "Greater         24.625       154.5     34.625       44.625     54.625   \n",
       "Min                 10           1         20           30         40   \n",
       "Max                 22         100         32           42         52   \n",
       "skew         -0.004692   -0.063442  -0.004692    -0.004692  -0.004692   \n",
       "kurtosis      -1.05572   -1.228256   -1.05572     -1.05572   -1.05572   \n",
       "var          13.068259  840.643449  13.068259    13.068259  13.068259   \n",
       "Std           3.615005   28.993852   3.615005     3.615005   3.615005   \n",
       "\n",
       "             active_users incident_duration  downtime  \n",
       "mean          6016.149871          0.354005  0.354005  \n",
       "median             6000.0               0.0       0.0  \n",
       "mode                 8000                 0         0  \n",
       "Q1:25%             4000.0               0.0       0.0  \n",
       "Q2:50%             6000.0               0.0       0.0  \n",
       "Q3:75%             8250.0               1.0       1.0  \n",
       "Q4:100%           12000.0               1.0       1.0  \n",
       "IQR                4250.0               1.0       1.0  \n",
       "1.5rule            6375.0               1.5       1.5  \n",
       "Lesser            -2375.0              -1.5      -1.5  \n",
       "Greater           14625.0               2.5       2.5  \n",
       "Min                     0                 0         0  \n",
       "Max                 12000                 1         1  \n",
       "skew            -0.004692           0.61118   0.61118  \n",
       "kurtosis         -1.05572         -1.628564 -1.628564  \n",
       "var       13068258.728655          0.228833  0.228833  \n",
       "Std           3615.004665          0.478365  0.478365  "
      ]
     },
     "execution_count": 26,
     "metadata": {},
     "output_type": "execute_result"
    }
   ],
   "source": [
    "Univariate(dataset,quan)"
   ]
  },
  {
   "cell_type": "markdown",
   "id": "3c26bad0-d11a-4c23-972f-a401f916bc2c",
   "metadata": {},
   "source": [
    "## To view the density of active_users"
   ]
  },
  {
   "cell_type": "code",
   "execution_count": 27,
   "id": "bda46c3b-dfd4-4a7e-94c1-4c0744e56a97",
   "metadata": {},
   "outputs": [
    {
     "data": {
      "text/plain": [
       "<seaborn.axisgrid.FacetGrid at 0x20daa7bafc0>"
      ]
     },
     "execution_count": 27,
     "metadata": {},
     "output_type": "execute_result"
    },
    {
     "data": {
      "image/png": "[encoded data removed]",
      "text/plain": [
       "<Figure size 500x500 with 1 Axes>"
      ]
     },
     "metadata": {},
     "output_type": "display_data"
    }
   ],
   "source": [
    "sns.displot(dataset[\"active_users\"])"
   ]
  },
  {
   "cell_type": "markdown",
   "id": "7754b785-4dd4-47b7-898f-c67f55a2064c",
   "metadata": {},
   "source": [
    "## probability of desired range(mean and standard deviation)"
   ]
  },
  {
   "cell_type": "code",
   "execution_count": 28,
   "id": "8004a192-b38f-4161-a85b-50f707a66340",
   "metadata": {},
   "outputs": [],
   "source": [
    "def get_pdf_probability(balanced_data, startrange, endrange):\n",
    "    from matplotlib import pyplot\n",
    "    from scipy.stats import norm\n",
    "    import seaborn as sns\n",
    "    \n",
    "    # Plot histogram with KDE\n",
    "    ax = sns.histplot(balanced_data, kde=True, line_kws={'color': 'blue'}, color='Green')\n",
    "    pyplot.axvline(startrange, color='Red')\n",
    "    pyplot.axvline(endrange, color='Red')\n",
    "    \n",
    "    # Generate a sample\n",
    "    sample = balanced_data\n",
    "    # Calculate parameters\n",
    "    sample_mean = sample.mean()\n",
    "    sample_std = sample.std()\n",
    "    print('Mean=%.3f, Standard Deviation=%.3f' % (sample_mean, sample_std))\n",
    "    \n",
    "    # Define the distribution\n",
    "    dist = norm(sample_mean, sample_std)\n",
    "    # Sample probabilities for a range of outcomes\n",
    "    values = [value for value in range(startrange, endrange)]\n",
    "    probabilities = [dist.pdf(value) for value in values]\n",
    "    prob = sum(probabilities)\n",
    "    print(\"The area between range({}, {}): {}\".format(startrange, endrange, prob))\n",
    "    return prob\n"
   ]
  },
  {
   "cell_type": "code",
   "execution_count": 29,
   "id": "47ed3674-4421-4be5-b88e-e2e8fa9e9921",
   "metadata": {},
   "outputs": [
    {
     "name": "stdout",
     "output_type": "stream",
     "text": [
      "Mean=6076.642, Standard Deviation=3676.106\n",
      "The area between range(7500, 10000): 0.2063993746303273\n"
     ]
    },
    {
     "data": {
      "text/plain": [
       "0.2063993746303273"
      ]
     },
     "execution_count": 29,
     "metadata": {},
     "output_type": "execute_result"
    },
    {
     "data": {
      "image/png": "[encoded data removed]",
      "text/plain": [
       "<Figure size 640x480 with 1 Axes>"
      ]
     },
     "metadata": {},
     "output_type": "display_data"
    }
   ],
   "source": [
    "get_pdf_probability(balanced_data[\"active_users\"],7500,10000)"
   ]
  },
  {
   "cell_type": "code",
   "execution_count": null,
   "id": "44f095dd-3f33-42a6-b296-0afa1dae78d0",
   "metadata": {},
   "outputs": [],
   "source": []
  }
 ],
 "metadata": {
  "kernelspec": {
   "display_name": "Python 3 (ipykernel)",
   "language": "python",
   "name": "python3"
  },
  "language_info": {
   "codemirror_mode": {
    "name": "ipython",
    "version": 3
   },
   "file_extension": ".py",
   "mimetype": "text/x-python",
   "name": "python",
   "nbconvert_exporter": "python",
   "pygments_lexer": "ipython3",
   "version": "3.12.4"
  }
 },
 "nbformat": 4,
 "nbformat_minor": 5
}
