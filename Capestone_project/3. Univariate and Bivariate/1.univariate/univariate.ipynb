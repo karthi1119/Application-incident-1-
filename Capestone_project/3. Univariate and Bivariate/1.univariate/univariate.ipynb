{
 "cells": [
  {
   "cell_type": "code",
   "execution_count": 1,
   "id": "a18782af-90f6-423c-b614-dcff3daf1154",
   "metadata": {},
   "outputs": [],
   "source": [
    "import pandas as pd\n",
    "import numpy as np\n",
    "import seaborn as sns"
   ]
  },
  {
   "cell_type": "code",
   "execution_count": 2,
   "id": "24e804cd-a15a-4c1e-b47b-43f571ac6661",
   "metadata": {},
   "outputs": [],
   "source": [
    "dataset=pd.read_csv(\"balanced_dataset.csv\")"
   ]
  },
  {
   "cell_type": "code",
   "execution_count": 3,
   "id": "92e0c392-d9a9-4052-9a7a-018c35952ee2",
   "metadata": {},
   "outputs": [
    {
     "data": {
      "text/html": [
       "<div>\n",
       "<style scoped>\n",
       "    .dataframe tbody tr th:only-of-type {\n",
       "        vertical-align: middle;\n",
       "    }\n",
       "\n",
       "    .dataframe tbody tr th {\n",
       "        vertical-align: top;\n",
       "    }\n",
       "\n",
       "    .dataframe thead th {\n",
       "        text-align: right;\n",
       "    }\n",
       "</style>\n",
       "<table border=\"1\" class=\"dataframe\">\n",
       "  <thead>\n",
       "    <tr style=\"text-align: right;\">\n",
       "      <th></th>\n",
       "      <th>app_name</th>\n",
       "      <th>response_time</th>\n",
       "      <th>error_rate</th>\n",
       "      <th>cpu_usage</th>\n",
       "      <th>memory_usage</th>\n",
       "      <th>disk_space</th>\n",
       "      <th>active_users</th>\n",
       "      <th>downtime</th>\n",
       "    </tr>\n",
       "  </thead>\n",
       "  <tbody>\n",
       "    <tr>\n",
       "      <th>0</th>\n",
       "      <td>NIP</td>\n",
       "      <td>18</td>\n",
       "      <td>22</td>\n",
       "      <td>28</td>\n",
       "      <td>38</td>\n",
       "      <td>48</td>\n",
       "      <td>8000</td>\n",
       "      <td>1</td>\n",
       "    </tr>\n",
       "    <tr>\n",
       "      <th>1</th>\n",
       "      <td>NIP</td>\n",
       "      <td>14</td>\n",
       "      <td>41</td>\n",
       "      <td>24</td>\n",
       "      <td>34</td>\n",
       "      <td>44</td>\n",
       "      <td>4000</td>\n",
       "      <td>0</td>\n",
       "    </tr>\n",
       "    <tr>\n",
       "      <th>2</th>\n",
       "      <td>NIP</td>\n",
       "      <td>17</td>\n",
       "      <td>38</td>\n",
       "      <td>27</td>\n",
       "      <td>37</td>\n",
       "      <td>47</td>\n",
       "      <td>7000</td>\n",
       "      <td>0</td>\n",
       "    </tr>\n",
       "    <tr>\n",
       "      <th>3</th>\n",
       "      <td>NIP</td>\n",
       "      <td>15</td>\n",
       "      <td>97</td>\n",
       "      <td>25</td>\n",
       "      <td>35</td>\n",
       "      <td>45</td>\n",
       "      <td>5000</td>\n",
       "      <td>0</td>\n",
       "    </tr>\n",
       "    <tr>\n",
       "      <th>4</th>\n",
       "      <td>NIP</td>\n",
       "      <td>11</td>\n",
       "      <td>67</td>\n",
       "      <td>21</td>\n",
       "      <td>31</td>\n",
       "      <td>41</td>\n",
       "      <td>1000</td>\n",
       "      <td>0</td>\n",
       "    </tr>\n",
       "    <tr>\n",
       "      <th>...</th>\n",
       "      <td>...</td>\n",
       "      <td>...</td>\n",
       "      <td>...</td>\n",
       "      <td>...</td>\n",
       "      <td>...</td>\n",
       "      <td>...</td>\n",
       "      <td>...</td>\n",
       "      <td>...</td>\n",
       "    </tr>\n",
       "    <tr>\n",
       "      <th>1815</th>\n",
       "      <td>NIP</td>\n",
       "      <td>22</td>\n",
       "      <td>48</td>\n",
       "      <td>32</td>\n",
       "      <td>42</td>\n",
       "      <td>52</td>\n",
       "      <td>12000</td>\n",
       "      <td>1</td>\n",
       "    </tr>\n",
       "    <tr>\n",
       "      <th>1816</th>\n",
       "      <td>NIP</td>\n",
       "      <td>18</td>\n",
       "      <td>82</td>\n",
       "      <td>28</td>\n",
       "      <td>38</td>\n",
       "      <td>48</td>\n",
       "      <td>8000</td>\n",
       "      <td>1</td>\n",
       "    </tr>\n",
       "    <tr>\n",
       "      <th>1817</th>\n",
       "      <td>NIP</td>\n",
       "      <td>17</td>\n",
       "      <td>97</td>\n",
       "      <td>27</td>\n",
       "      <td>37</td>\n",
       "      <td>47</td>\n",
       "      <td>7000</td>\n",
       "      <td>0</td>\n",
       "    </tr>\n",
       "    <tr>\n",
       "      <th>1818</th>\n",
       "      <td>NIP</td>\n",
       "      <td>18</td>\n",
       "      <td>53</td>\n",
       "      <td>28</td>\n",
       "      <td>38</td>\n",
       "      <td>48</td>\n",
       "      <td>8000</td>\n",
       "      <td>1</td>\n",
       "    </tr>\n",
       "    <tr>\n",
       "      <th>1819</th>\n",
       "      <td>NIP</td>\n",
       "      <td>14</td>\n",
       "      <td>30</td>\n",
       "      <td>24</td>\n",
       "      <td>34</td>\n",
       "      <td>44</td>\n",
       "      <td>4000</td>\n",
       "      <td>1</td>\n",
       "    </tr>\n",
       "  </tbody>\n",
       "</table>\n",
       "<p>1820 rows × 8 columns</p>\n",
       "</div>"
      ],
      "text/plain": [
       "     app_name  response_time  error_rate  cpu_usage  memory_usage  disk_space  \\\n",
       "0         NIP             18          22         28            38          48   \n",
       "1         NIP             14          41         24            34          44   \n",
       "2         NIP             17          38         27            37          47   \n",
       "3         NIP             15          97         25            35          45   \n",
       "4         NIP             11          67         21            31          41   \n",
       "...       ...            ...         ...        ...           ...         ...   \n",
       "1815      NIP             22          48         32            42          52   \n",
       "1816      NIP             18          82         28            38          48   \n",
       "1817      NIP             17          97         27            37          47   \n",
       "1818      NIP             18          53         28            38          48   \n",
       "1819      NIP             14          30         24            34          44   \n",
       "\n",
       "      active_users  downtime  \n",
       "0             8000         1  \n",
       "1             4000         0  \n",
       "2             7000         0  \n",
       "3             5000         0  \n",
       "4             1000         0  \n",
       "...            ...       ...  \n",
       "1815         12000         1  \n",
       "1816          8000         1  \n",
       "1817          7000         0  \n",
       "1818          8000         1  \n",
       "1819          4000         1  \n",
       "\n",
       "[1820 rows x 8 columns]"
      ]
     },
     "execution_count": 3,
     "metadata": {},
     "output_type": "execute_result"
    }
   ],
   "source": [
    "dataset"
   ]
  },
  {
   "cell_type": "markdown",
   "id": "b032bc62-d545-475f-b37c-1acfd8f30785",
   "metadata": {},
   "source": [
    "## Finding null values and replacing them"
   ]
  },
  {
   "cell_type": "code",
   "execution_count": 4,
   "id": "34628aee-203a-49ed-b030-59f71e86ee25",
   "metadata": {},
   "outputs": [
    {
     "data": {
      "text/plain": [
       "app_name         0\n",
       "response_time    0\n",
       "error_rate       0\n",
       "cpu_usage        0\n",
       "memory_usage     0\n",
       "disk_space       0\n",
       "active_users     0\n",
       "downtime         0\n",
       "dtype: int64"
      ]
     },
     "execution_count": 4,
     "metadata": {},
     "output_type": "execute_result"
    }
   ],
   "source": [
    "dataset.isnull().sum()"
   ]
  },
  {
   "cell_type": "markdown",
   "id": "40013360-9949-4329-b891-5ecc5f330c79",
   "metadata": {},
   "source": [
    "## Finding the information about the dataset (dtype) object or integer that column contains"
   ]
  },
  {
   "cell_type": "code",
   "execution_count": 5,
   "id": "88824414-d6c9-4cd9-8c66-924413d448ea",
   "metadata": {},
   "outputs": [
    {
     "name": "stdout",
     "output_type": "stream",
     "text": [
      "<class 'pandas.core.frame.DataFrame'>\n",
      "RangeIndex: 1820 entries, 0 to 1819\n",
      "Data columns (total 8 columns):\n",
      " #   Column         Non-Null Count  Dtype \n",
      "---  ------         --------------  ----- \n",
      " 0   app_name       1820 non-null   object\n",
      " 1   response_time  1820 non-null   int64 \n",
      " 2   error_rate     1820 non-null   int64 \n",
      " 3   cpu_usage      1820 non-null   int64 \n",
      " 4   memory_usage   1820 non-null   int64 \n",
      " 5   disk_space     1820 non-null   int64 \n",
      " 6   active_users   1820 non-null   int64 \n",
      " 7   downtime       1820 non-null   int64 \n",
      "dtypes: int64(7), object(1)\n",
      "memory usage: 113.9+ KB\n"
     ]
    }
   ],
   "source": [
    "dataset.info()"
   ]
  },
  {
   "cell_type": "markdown",
   "id": "f44b6d05-5986-480a-9c8d-d2d37417bd1a",
   "metadata": {},
   "source": [
    "## Dataset shape for downtime and incident_duration"
   ]
  },
  {
   "cell_type": "code",
   "execution_count": 6,
   "id": "ef8d5b66-9094-46ba-a7db-294c7705b6ca",
   "metadata": {
    "scrolled": true
   },
   "outputs": [
    {
     "data": {
      "text/plain": [
       "downtime\n",
       "0    1000\n",
       "1     820\n",
       "Name: count, dtype: int64"
      ]
     },
     "execution_count": 6,
     "metadata": {},
     "output_type": "execute_result"
    }
   ],
   "source": [
    "dataset['downtime'].value_counts()"
   ]
  },
  {
   "cell_type": "markdown",
   "id": "e05ff4f0-c0b3-4f8c-80e3-f0f4d3e6ac28",
   "metadata": {},
   "source": [
    "## seperating the quan and qual"
   ]
  },
  {
   "cell_type": "code",
   "execution_count": 7,
   "id": "876bbb64-dd68-4d09-86c6-10bad6095252",
   "metadata": {},
   "outputs": [],
   "source": [
    "def quanQual(dataset):\n",
    "    quan=[]\n",
    "    qual=[]\n",
    "    for columnName in dataset.columns:\n",
    "        print(columnName)\n",
    "        if(dataset[columnName].dtype=='object'):\n",
    "            print(\"qual\")\n",
    "            qual.append(columnName)\n",
    "        else:\n",
    "            print(\"quan\")\n",
    "            quan.append(columnName)\n",
    "    return quan,qual"
   ]
  },
  {
   "cell_type": "code",
   "execution_count": 8,
   "id": "6dd1241a-3dde-4a2f-921e-6fbbaec09ccc",
   "metadata": {},
   "outputs": [
    {
     "name": "stdout",
     "output_type": "stream",
     "text": [
      "app_name\n",
      "qual\n",
      "response_time\n",
      "quan\n",
      "error_rate\n",
      "quan\n",
      "cpu_usage\n",
      "quan\n",
      "memory_usage\n",
      "quan\n",
      "disk_space\n",
      "quan\n",
      "active_users\n",
      "quan\n",
      "downtime\n",
      "quan\n"
     ]
    }
   ],
   "source": [
    "quan,qual=quanQual(dataset)"
   ]
  },
  {
   "cell_type": "code",
   "execution_count": 9,
   "id": "5c77f547-c8bb-44c1-94aa-5e656f1508a0",
   "metadata": {},
   "outputs": [
    {
     "data": {
      "text/plain": [
       "['response_time',\n",
       " 'error_rate',\n",
       " 'cpu_usage',\n",
       " 'memory_usage',\n",
       " 'disk_space',\n",
       " 'active_users',\n",
       " 'downtime']"
      ]
     },
     "execution_count": 9,
     "metadata": {},
     "output_type": "execute_result"
    }
   ],
   "source": [
    "quan"
   ]
  },
  {
   "cell_type": "code",
   "execution_count": 10,
   "id": "6fe195b3-676b-4277-9656-27121c63546b",
   "metadata": {},
   "outputs": [
    {
     "data": {
      "text/plain": [
       "['app_name']"
      ]
     },
     "execution_count": 10,
     "metadata": {},
     "output_type": "execute_result"
    }
   ],
   "source": [
    "qual"
   ]
  },
  {
   "cell_type": "markdown",
   "id": "cadf1947-e607-488e-8860-0a0f4e5cf67b",
   "metadata": {},
   "source": [
    "## Basic information of dataset by Dataframe to view"
   ]
  },
  {
   "cell_type": "code",
   "execution_count": 11,
   "id": "7f88b7fd-e0ba-4a0a-baef-c608983e18a2",
   "metadata": {},
   "outputs": [
    {
     "data": {
      "text/html": [
       "<div>\n",
       "<style scoped>\n",
       "    .dataframe tbody tr th:only-of-type {\n",
       "        vertical-align: middle;\n",
       "    }\n",
       "\n",
       "    .dataframe tbody tr th {\n",
       "        vertical-align: top;\n",
       "    }\n",
       "\n",
       "    .dataframe thead th {\n",
       "        text-align: right;\n",
       "    }\n",
       "</style>\n",
       "<table border=\"1\" class=\"dataframe\">\n",
       "  <thead>\n",
       "    <tr style=\"text-align: right;\">\n",
       "      <th></th>\n",
       "      <th>response_time</th>\n",
       "      <th>error_rate</th>\n",
       "      <th>cpu_usage</th>\n",
       "      <th>memory_usage</th>\n",
       "      <th>disk_space</th>\n",
       "      <th>active_users</th>\n",
       "      <th>downtime</th>\n",
       "    </tr>\n",
       "  </thead>\n",
       "  <tbody>\n",
       "    <tr>\n",
       "      <th>count</th>\n",
       "      <td>1820.000000</td>\n",
       "      <td>1820.000000</td>\n",
       "      <td>1820.000000</td>\n",
       "      <td>1820.000000</td>\n",
       "      <td>1820.000000</td>\n",
       "      <td>1820.000000</td>\n",
       "      <td>1820.000000</td>\n",
       "    </tr>\n",
       "    <tr>\n",
       "      <th>mean</th>\n",
       "      <td>16.114286</td>\n",
       "      <td>50.825275</td>\n",
       "      <td>26.114286</td>\n",
       "      <td>36.114286</td>\n",
       "      <td>46.114286</td>\n",
       "      <td>6114.285714</td>\n",
       "      <td>0.450549</td>\n",
       "    </tr>\n",
       "    <tr>\n",
       "      <th>std</th>\n",
       "      <td>3.663426</td>\n",
       "      <td>29.235414</td>\n",
       "      <td>3.663426</td>\n",
       "      <td>3.663426</td>\n",
       "      <td>3.663426</td>\n",
       "      <td>3663.425502</td>\n",
       "      <td>0.497685</td>\n",
       "    </tr>\n",
       "    <tr>\n",
       "      <th>min</th>\n",
       "      <td>10.000000</td>\n",
       "      <td>1.000000</td>\n",
       "      <td>20.000000</td>\n",
       "      <td>30.000000</td>\n",
       "      <td>40.000000</td>\n",
       "      <td>0.000000</td>\n",
       "      <td>0.000000</td>\n",
       "    </tr>\n",
       "    <tr>\n",
       "      <th>25%</th>\n",
       "      <td>14.000000</td>\n",
       "      <td>25.000000</td>\n",
       "      <td>24.000000</td>\n",
       "      <td>34.000000</td>\n",
       "      <td>44.000000</td>\n",
       "      <td>4000.000000</td>\n",
       "      <td>0.000000</td>\n",
       "    </tr>\n",
       "    <tr>\n",
       "      <th>50%</th>\n",
       "      <td>16.000000</td>\n",
       "      <td>51.000000</td>\n",
       "      <td>26.000000</td>\n",
       "      <td>36.000000</td>\n",
       "      <td>46.000000</td>\n",
       "      <td>6000.000000</td>\n",
       "      <td>0.000000</td>\n",
       "    </tr>\n",
       "    <tr>\n",
       "      <th>75%</th>\n",
       "      <td>18.000000</td>\n",
       "      <td>77.000000</td>\n",
       "      <td>28.000000</td>\n",
       "      <td>38.000000</td>\n",
       "      <td>48.000000</td>\n",
       "      <td>8000.000000</td>\n",
       "      <td>1.000000</td>\n",
       "    </tr>\n",
       "    <tr>\n",
       "      <th>max</th>\n",
       "      <td>22.000000</td>\n",
       "      <td>100.000000</td>\n",
       "      <td>32.000000</td>\n",
       "      <td>42.000000</td>\n",
       "      <td>52.000000</td>\n",
       "      <td>12000.000000</td>\n",
       "      <td>1.000000</td>\n",
       "    </tr>\n",
       "  </tbody>\n",
       "</table>\n",
       "</div>"
      ],
      "text/plain": [
       "       response_time   error_rate    cpu_usage  memory_usage   disk_space  \\\n",
       "count    1820.000000  1820.000000  1820.000000   1820.000000  1820.000000   \n",
       "mean       16.114286    50.825275    26.114286     36.114286    46.114286   \n",
       "std         3.663426    29.235414     3.663426      3.663426     3.663426   \n",
       "min        10.000000     1.000000    20.000000     30.000000    40.000000   \n",
       "25%        14.000000    25.000000    24.000000     34.000000    44.000000   \n",
       "50%        16.000000    51.000000    26.000000     36.000000    46.000000   \n",
       "75%        18.000000    77.000000    28.000000     38.000000    48.000000   \n",
       "max        22.000000   100.000000    32.000000     42.000000    52.000000   \n",
       "\n",
       "       active_users     downtime  \n",
       "count   1820.000000  1820.000000  \n",
       "mean    6114.285714     0.450549  \n",
       "std     3663.425502     0.497685  \n",
       "min        0.000000     0.000000  \n",
       "25%     4000.000000     0.000000  \n",
       "50%     6000.000000     0.000000  \n",
       "75%     8000.000000     1.000000  \n",
       "max    12000.000000     1.000000  "
      ]
     },
     "execution_count": 11,
     "metadata": {},
     "output_type": "execute_result"
    }
   ],
   "source": [
    "dataset.describe()"
   ]
  },
  {
   "cell_type": "markdown",
   "id": "520fbb0a-2809-4daa-ba16-3dcbfd082ffb",
   "metadata": {},
   "source": [
    "## Measure of central tendency, quartile, 1.5 rule, minimum, maximum"
   ]
  },
  {
   "cell_type": "code",
   "execution_count": 12,
   "id": "1d901bdb-8650-4a43-a49d-3848b95266c3",
   "metadata": {
    "scrolled": true
   },
   "outputs": [],
   "source": [
    "descriptive = pd.DataFrame(index=[\"mean\", \"median\", \"mode\", \"Q1:25%\", \"Q2:50%\", \"Q3:75%\", \"Q4:100%\",\n",
    "                                  \"IQR\", \"1.5rule\", \"Lesser\", \"Greater\", \"Min\", \"Max\"], columns=quan)\n",
    "\n",
    "for columnName in quan:\n",
    "    descriptive.loc[\"mean\", columnName] = dataset[columnName].mean()\n",
    "    descriptive.loc[\"median\", columnName] = dataset[columnName].median()\n",
    "    descriptive.loc[\"mode\", columnName] = dataset[columnName].mode()[0]\n",
    "    descriptive.loc[\"Q1:25%\", columnName] = dataset.describe()[columnName][\"25%\"]\n",
    "    descriptive.loc[\"Q2:50%\", columnName] = dataset.describe()[columnName][\"50%\"]\n",
    "    descriptive.loc[\"Q3:75%\", columnName] = dataset.describe()[columnName][\"75%\"]\n",
    "    descriptive.loc[\"Q4:100%\", columnName] = dataset.describe()[columnName][\"max\"]\n",
    "    descriptive.loc[\"IQR\", columnName] = descriptive.loc[\"Q3:75%\", columnName] - descriptive.loc[\"Q1:25%\", columnName]\n",
    "    descriptive.loc[\"1.5rule\", columnName] = 1.5 * descriptive.loc[\"IQR\", columnName]\n",
    "    descriptive.loc[\"Lesser\", columnName] = descriptive.loc[\"Q1:25%\", columnName] - descriptive.loc[\"1.5rule\", columnName]\n",
    "    descriptive.loc[\"Greater\", columnName] = descriptive.loc[\"Q3:75%\", columnName] + descriptive.loc[\"1.5rule\", columnName]\n",
    "    descriptive.loc[\"Min\", columnName] = dataset[columnName].min()\n",
    "    descriptive.loc[\"Max\", columnName] = dataset[columnName].max()\n"
   ]
  },
  {
   "cell_type": "code",
   "execution_count": 13,
   "id": "3c84a758-8156-42d8-86e8-8ff5bad0bd20",
   "metadata": {},
   "outputs": [
    {
     "data": {
      "text/html": [
       "<div>\n",
       "<style scoped>\n",
       "    .dataframe tbody tr th:only-of-type {\n",
       "        vertical-align: middle;\n",
       "    }\n",
       "\n",
       "    .dataframe tbody tr th {\n",
       "        vertical-align: top;\n",
       "    }\n",
       "\n",
       "    .dataframe thead th {\n",
       "        text-align: right;\n",
       "    }\n",
       "</style>\n",
       "<table border=\"1\" class=\"dataframe\">\n",
       "  <thead>\n",
       "    <tr style=\"text-align: right;\">\n",
       "      <th></th>\n",
       "      <th>response_time</th>\n",
       "      <th>error_rate</th>\n",
       "      <th>cpu_usage</th>\n",
       "      <th>memory_usage</th>\n",
       "      <th>disk_space</th>\n",
       "      <th>active_users</th>\n",
       "      <th>downtime</th>\n",
       "    </tr>\n",
       "  </thead>\n",
       "  <tbody>\n",
       "    <tr>\n",
       "      <th>mean</th>\n",
       "      <td>16.114286</td>\n",
       "      <td>50.825275</td>\n",
       "      <td>26.114286</td>\n",
       "      <td>36.114286</td>\n",
       "      <td>46.114286</td>\n",
       "      <td>6114.285714</td>\n",
       "      <td>0.450549</td>\n",
       "    </tr>\n",
       "    <tr>\n",
       "      <th>median</th>\n",
       "      <td>16.0</td>\n",
       "      <td>51.0</td>\n",
       "      <td>26.0</td>\n",
       "      <td>36.0</td>\n",
       "      <td>46.0</td>\n",
       "      <td>6000.0</td>\n",
       "      <td>0.0</td>\n",
       "    </tr>\n",
       "    <tr>\n",
       "      <th>mode</th>\n",
       "      <td>14</td>\n",
       "      <td>2</td>\n",
       "      <td>24</td>\n",
       "      <td>34</td>\n",
       "      <td>44</td>\n",
       "      <td>4000</td>\n",
       "      <td>0</td>\n",
       "    </tr>\n",
       "    <tr>\n",
       "      <th>Q1:25%</th>\n",
       "      <td>14.0</td>\n",
       "      <td>25.0</td>\n",
       "      <td>24.0</td>\n",
       "      <td>34.0</td>\n",
       "      <td>44.0</td>\n",
       "      <td>4000.0</td>\n",
       "      <td>0.0</td>\n",
       "    </tr>\n",
       "    <tr>\n",
       "      <th>Q2:50%</th>\n",
       "      <td>16.0</td>\n",
       "      <td>51.0</td>\n",
       "      <td>26.0</td>\n",
       "      <td>36.0</td>\n",
       "      <td>46.0</td>\n",
       "      <td>6000.0</td>\n",
       "      <td>0.0</td>\n",
       "    </tr>\n",
       "    <tr>\n",
       "      <th>Q3:75%</th>\n",
       "      <td>18.0</td>\n",
       "      <td>77.0</td>\n",
       "      <td>28.0</td>\n",
       "      <td>38.0</td>\n",
       "      <td>48.0</td>\n",
       "      <td>8000.0</td>\n",
       "      <td>1.0</td>\n",
       "    </tr>\n",
       "    <tr>\n",
       "      <th>Q4:100%</th>\n",
       "      <td>22.0</td>\n",
       "      <td>100.0</td>\n",
       "      <td>32.0</td>\n",
       "      <td>42.0</td>\n",
       "      <td>52.0</td>\n",
       "      <td>12000.0</td>\n",
       "      <td>1.0</td>\n",
       "    </tr>\n",
       "    <tr>\n",
       "      <th>IQR</th>\n",
       "      <td>4.0</td>\n",
       "      <td>52.0</td>\n",
       "      <td>4.0</td>\n",
       "      <td>4.0</td>\n",
       "      <td>4.0</td>\n",
       "      <td>4000.0</td>\n",
       "      <td>1.0</td>\n",
       "    </tr>\n",
       "    <tr>\n",
       "      <th>1.5rule</th>\n",
       "      <td>6.0</td>\n",
       "      <td>78.0</td>\n",
       "      <td>6.0</td>\n",
       "      <td>6.0</td>\n",
       "      <td>6.0</td>\n",
       "      <td>6000.0</td>\n",
       "      <td>1.5</td>\n",
       "    </tr>\n",
       "    <tr>\n",
       "      <th>Lesser</th>\n",
       "      <td>8.0</td>\n",
       "      <td>-53.0</td>\n",
       "      <td>18.0</td>\n",
       "      <td>28.0</td>\n",
       "      <td>38.0</td>\n",
       "      <td>-2000.0</td>\n",
       "      <td>-1.5</td>\n",
       "    </tr>\n",
       "    <tr>\n",
       "      <th>Greater</th>\n",
       "      <td>24.0</td>\n",
       "      <td>155.0</td>\n",
       "      <td>34.0</td>\n",
       "      <td>44.0</td>\n",
       "      <td>54.0</td>\n",
       "      <td>14000.0</td>\n",
       "      <td>2.5</td>\n",
       "    </tr>\n",
       "    <tr>\n",
       "      <th>Min</th>\n",
       "      <td>10</td>\n",
       "      <td>1</td>\n",
       "      <td>20</td>\n",
       "      <td>30</td>\n",
       "      <td>40</td>\n",
       "      <td>0</td>\n",
       "      <td>0</td>\n",
       "    </tr>\n",
       "    <tr>\n",
       "      <th>Max</th>\n",
       "      <td>22</td>\n",
       "      <td>100</td>\n",
       "      <td>32</td>\n",
       "      <td>42</td>\n",
       "      <td>52</td>\n",
       "      <td>12000</td>\n",
       "      <td>1</td>\n",
       "    </tr>\n",
       "  </tbody>\n",
       "</table>\n",
       "</div>"
      ],
      "text/plain": [
       "        response_time error_rate  cpu_usage memory_usage disk_space  \\\n",
       "mean        16.114286  50.825275  26.114286    36.114286  46.114286   \n",
       "median           16.0       51.0       26.0         36.0       46.0   \n",
       "mode               14          2         24           34         44   \n",
       "Q1:25%           14.0       25.0       24.0         34.0       44.0   \n",
       "Q2:50%           16.0       51.0       26.0         36.0       46.0   \n",
       "Q3:75%           18.0       77.0       28.0         38.0       48.0   \n",
       "Q4:100%          22.0      100.0       32.0         42.0       52.0   \n",
       "IQR               4.0       52.0        4.0          4.0        4.0   \n",
       "1.5rule           6.0       78.0        6.0          6.0        6.0   \n",
       "Lesser            8.0      -53.0       18.0         28.0       38.0   \n",
       "Greater          24.0      155.0       34.0         44.0       54.0   \n",
       "Min                10          1         20           30         40   \n",
       "Max                22        100         32           42         52   \n",
       "\n",
       "        active_users  downtime  \n",
       "mean     6114.285714  0.450549  \n",
       "median        6000.0       0.0  \n",
       "mode            4000         0  \n",
       "Q1:25%        4000.0       0.0  \n",
       "Q2:50%        6000.0       0.0  \n",
       "Q3:75%        8000.0       1.0  \n",
       "Q4:100%      12000.0       1.0  \n",
       "IQR           4000.0       1.0  \n",
       "1.5rule       6000.0       1.5  \n",
       "Lesser       -2000.0      -1.5  \n",
       "Greater      14000.0       2.5  \n",
       "Min                0         0  \n",
       "Max            12000         1  "
      ]
     },
     "execution_count": 13,
     "metadata": {},
     "output_type": "execute_result"
    }
   ],
   "source": [
    "descriptive"
   ]
  },
  {
   "cell_type": "markdown",
   "id": "9278a7d5-a6b1-4b57-9ccd-0c19de708baa",
   "metadata": {},
   "source": [
    "## Finding outliers"
   ]
  },
  {
   "cell_type": "code",
   "execution_count": 14,
   "id": "cb6d5f58-5b9a-4f30-b468-0f6767be1b5b",
   "metadata": {},
   "outputs": [],
   "source": [
    "lesser=[]\n",
    "greater=[]\n",
    "\n",
    "for columnName in quan:\n",
    "    if(descriptive[columnName][\"Min\"]<descriptive[columnName][\"Lesser\"]):\n",
    "        lesser.append(columnName)\n",
    "    if(descriptive[columnName][\"Max\"]>descriptive[columnName][\"Greater\"]):\n",
    "        greater.append(columnName)"
   ]
  },
  {
   "cell_type": "code",
   "execution_count": 15,
   "id": "56296333-2e18-4bd1-a2e4-25decdec678a",
   "metadata": {},
   "outputs": [
    {
     "name": "stdout",
     "output_type": "stream",
     "text": [
      "Lesser: []\n",
      "Greater: []\n"
     ]
    }
   ],
   "source": [
    "print(\"Lesser:\", lesser)\n",
    "print(\"Greater:\", greater)"
   ]
  },
  {
   "cell_type": "markdown",
   "id": "30394997-5f8b-4b36-b610-695925ca0fd7",
   "metadata": {},
   "source": [
    "## If any outliers are formed to replacing the outliers"
   ]
  },
  {
   "cell_type": "code",
   "execution_count": 16,
   "id": "3cb34b7f-9d26-4f2b-97f2-d260bacc5c64",
   "metadata": {},
   "outputs": [],
   "source": [
    "for columnName in lesser:\n",
    "    dataset[columnName][dataset[columnName]<descriptive[columnName][\"Lesser\"]]=descriptive[columnName][\"Lesser\"]\n",
    "for columnName in greater:\n",
    "    dataset[columnName][dataset[columnName]>descriptive[columnName][\"Greater\"]]=descriptive[columnName][\"Greater\"]\n"
   ]
  },
  {
   "cell_type": "code",
   "execution_count": 17,
   "id": "1ef9dee7-8dab-4b69-b4f7-327102e07bf1",
   "metadata": {},
   "outputs": [
    {
     "data": {
      "text/plain": [
       "[]"
      ]
     },
     "execution_count": 17,
     "metadata": {},
     "output_type": "execute_result"
    }
   ],
   "source": [
    "lesser"
   ]
  },
  {
   "cell_type": "code",
   "execution_count": 18,
   "id": "3a57e001-ee22-41d2-9fab-4390f82adcaf",
   "metadata": {},
   "outputs": [
    {
     "data": {
      "text/plain": [
       "[]"
      ]
     },
     "execution_count": 18,
     "metadata": {},
     "output_type": "execute_result"
    }
   ],
   "source": [
    "greater"
   ]
  },
  {
   "cell_type": "markdown",
   "id": "5b8390b7-2a49-482e-9fff-166002ea0219",
   "metadata": {},
   "source": [
    "## FREQUENCY"
   ]
  },
  {
   "cell_type": "code",
   "execution_count": 19,
   "id": "9bf2c1c8-1326-4232-929c-38173291dd8e",
   "metadata": {},
   "outputs": [
    {
     "data": {
      "text/html": [
       "<div>\n",
       "<style scoped>\n",
       "    .dataframe tbody tr th:only-of-type {\n",
       "        vertical-align: middle;\n",
       "    }\n",
       "\n",
       "    .dataframe tbody tr th {\n",
       "        vertical-align: top;\n",
       "    }\n",
       "\n",
       "    .dataframe thead th {\n",
       "        text-align: right;\n",
       "    }\n",
       "</style>\n",
       "<table border=\"1\" class=\"dataframe\">\n",
       "  <thead>\n",
       "    <tr style=\"text-align: right;\">\n",
       "      <th></th>\n",
       "      <th>unique_values</th>\n",
       "      <th>Frequency</th>\n",
       "      <th>Relative_frequency</th>\n",
       "      <th>Cumsum</th>\n",
       "    </tr>\n",
       "  </thead>\n",
       "  <tbody>\n",
       "  </tbody>\n",
       "</table>\n",
       "</div>"
      ],
      "text/plain": [
       "Empty DataFrame\n",
       "Columns: [unique_values, Frequency, Relative_frequency, Cumsum]\n",
       "Index: []"
      ]
     },
     "execution_count": 19,
     "metadata": {},
     "output_type": "execute_result"
    }
   ],
   "source": [
    "freqTable=pd.DataFrame(columns=[\"unique_values\",\"Frequency\",\"Relative_frequency\",\"Cumsum\"])\n",
    "freqTable"
   ]
  },
  {
   "cell_type": "code",
   "execution_count": 20,
   "id": "2ab98c58-65f8-4ee0-87b6-2b22ffe5d699",
   "metadata": {},
   "outputs": [],
   "source": [
    "def freqTable(columnName,dataset):\n",
    "    freqTable=pd.DataFrame(columns=[\"unique_values\",\"Frequency\",\"Relative_frequency\",\"Cumsum\"])\n",
    "    freqTable[\"unique_values\"]=dataset[columnName].value_counts().index\n",
    "    freqTable[\"Frequency\"]=dataset[columnName].value_counts().values\n",
    "    freqTable[\"Relative_frequency\"]=(freqTable[\"Frequency\"]/103)\n",
    "    freqTable[\"Cumsum\"]=freqTable[\"Relative_frequency\"].cumsum()\n",
    "    return freqTable"
   ]
  },
  {
   "cell_type": "code",
   "execution_count": 21,
   "id": "d845844a-f734-4932-a23a-9cc0b0887cad",
   "metadata": {},
   "outputs": [
    {
     "data": {
      "text/html": [
       "<div>\n",
       "<style scoped>\n",
       "    .dataframe tbody tr th:only-of-type {\n",
       "        vertical-align: middle;\n",
       "    }\n",
       "\n",
       "    .dataframe tbody tr th {\n",
       "        vertical-align: top;\n",
       "    }\n",
       "\n",
       "    .dataframe thead th {\n",
       "        text-align: right;\n",
       "    }\n",
       "</style>\n",
       "<table border=\"1\" class=\"dataframe\">\n",
       "  <thead>\n",
       "    <tr style=\"text-align: right;\">\n",
       "      <th></th>\n",
       "      <th>unique_values</th>\n",
       "      <th>Frequency</th>\n",
       "      <th>Relative_frequency</th>\n",
       "      <th>Cumsum</th>\n",
       "    </tr>\n",
       "  </thead>\n",
       "  <tbody>\n",
       "    <tr>\n",
       "      <th>0</th>\n",
       "      <td>4000</td>\n",
       "      <td>363</td>\n",
       "      <td>3.524272</td>\n",
       "      <td>3.524272</td>\n",
       "    </tr>\n",
       "    <tr>\n",
       "      <th>1</th>\n",
       "      <td>8000</td>\n",
       "      <td>348</td>\n",
       "      <td>3.378641</td>\n",
       "      <td>6.902913</td>\n",
       "    </tr>\n",
       "    <tr>\n",
       "      <th>2</th>\n",
       "      <td>12000</td>\n",
       "      <td>191</td>\n",
       "      <td>1.854369</td>\n",
       "      <td>8.757282</td>\n",
       "    </tr>\n",
       "    <tr>\n",
       "      <th>3</th>\n",
       "      <td>0</td>\n",
       "      <td>165</td>\n",
       "      <td>1.601942</td>\n",
       "      <td>10.359223</td>\n",
       "    </tr>\n",
       "    <tr>\n",
       "      <th>4</th>\n",
       "      <td>11000</td>\n",
       "      <td>95</td>\n",
       "      <td>0.922330</td>\n",
       "      <td>11.281553</td>\n",
       "    </tr>\n",
       "    <tr>\n",
       "      <th>5</th>\n",
       "      <td>5000</td>\n",
       "      <td>93</td>\n",
       "      <td>0.902913</td>\n",
       "      <td>12.184466</td>\n",
       "    </tr>\n",
       "    <tr>\n",
       "      <th>6</th>\n",
       "      <td>1000</td>\n",
       "      <td>91</td>\n",
       "      <td>0.883495</td>\n",
       "      <td>13.067961</td>\n",
       "    </tr>\n",
       "    <tr>\n",
       "      <th>7</th>\n",
       "      <td>10000</td>\n",
       "      <td>88</td>\n",
       "      <td>0.854369</td>\n",
       "      <td>13.922330</td>\n",
       "    </tr>\n",
       "    <tr>\n",
       "      <th>8</th>\n",
       "      <td>7000</td>\n",
       "      <td>86</td>\n",
       "      <td>0.834951</td>\n",
       "      <td>14.757282</td>\n",
       "    </tr>\n",
       "    <tr>\n",
       "      <th>9</th>\n",
       "      <td>9000</td>\n",
       "      <td>77</td>\n",
       "      <td>0.747573</td>\n",
       "      <td>15.504854</td>\n",
       "    </tr>\n",
       "    <tr>\n",
       "      <th>10</th>\n",
       "      <td>6000</td>\n",
       "      <td>77</td>\n",
       "      <td>0.747573</td>\n",
       "      <td>16.252427</td>\n",
       "    </tr>\n",
       "    <tr>\n",
       "      <th>11</th>\n",
       "      <td>2000</td>\n",
       "      <td>76</td>\n",
       "      <td>0.737864</td>\n",
       "      <td>16.990291</td>\n",
       "    </tr>\n",
       "    <tr>\n",
       "      <th>12</th>\n",
       "      <td>3000</td>\n",
       "      <td>70</td>\n",
       "      <td>0.679612</td>\n",
       "      <td>17.669903</td>\n",
       "    </tr>\n",
       "  </tbody>\n",
       "</table>\n",
       "</div>"
      ],
      "text/plain": [
       "    unique_values  Frequency  Relative_frequency     Cumsum\n",
       "0            4000        363            3.524272   3.524272\n",
       "1            8000        348            3.378641   6.902913\n",
       "2           12000        191            1.854369   8.757282\n",
       "3               0        165            1.601942  10.359223\n",
       "4           11000         95            0.922330  11.281553\n",
       "5            5000         93            0.902913  12.184466\n",
       "6            1000         91            0.883495  13.067961\n",
       "7           10000         88            0.854369  13.922330\n",
       "8            7000         86            0.834951  14.757282\n",
       "9            9000         77            0.747573  15.504854\n",
       "10           6000         77            0.747573  16.252427\n",
       "11           2000         76            0.737864  16.990291\n",
       "12           3000         70            0.679612  17.669903"
      ]
     },
     "execution_count": 21,
     "metadata": {},
     "output_type": "execute_result"
    }
   ],
   "source": [
    "freqTable(\"active_users\",dataset)"
   ]
  },
  {
   "cell_type": "markdown",
   "id": "8ef24516-73f4-4247-aacc-084afb317558",
   "metadata": {},
   "source": [
    "## skewness, kurtosis, variance and standard deviation"
   ]
  },
  {
   "cell_type": "code",
   "execution_count": 22,
   "id": "1717ae87-2d8e-4ce6-8ec1-d9bad37fdea5",
   "metadata": {},
   "outputs": [],
   "source": [
    "def Univariate(dataset, quan):\n",
    "    descriptive = pd.DataFrame(index=[\"mean\", \"median\", \"mode\", \"Q1:25%\", \"Q2:50%\", \"Q3:75%\", \"Q4:100%\",\n",
    "                                      \"IQR\", \"1.5rule\", \"Lesser\", \"Greater\", \"Min\", \"Max\", \"skew\", \n",
    "                                      \"kurtosis\", \"var\", \"Std\"], columns=quan)\n",
    "    for columnName in quan:\n",
    "        descriptive.loc[\"mean\", columnName] = dataset[columnName].mean()\n",
    "        descriptive.loc[\"median\", columnName] = dataset[columnName].median()\n",
    "        descriptive.loc[\"mode\", columnName] = dataset[columnName].mode()[0]\n",
    "        descriptive.loc[\"Q1:25%\", columnName] = dataset.describe()[columnName][\"25%\"]\n",
    "        descriptive.loc[\"Q2:50%\", columnName] = dataset.describe()[columnName][\"50%\"]\n",
    "        descriptive.loc[\"Q3:75%\", columnName] = dataset.describe()[columnName][\"75%\"]\n",
    "        descriptive.loc[\"Q4:100%\", columnName] = dataset.describe()[columnName][\"max\"]\n",
    "        descriptive.loc[\"IQR\", columnName] = descriptive.loc[\"Q3:75%\", columnName] - descriptive.loc[\"Q1:25%\", columnName]\n",
    "        descriptive.loc[\"1.5rule\", columnName] = 1.5 * descriptive.loc[\"IQR\", columnName]\n",
    "        descriptive.loc[\"Lesser\", columnName] = descriptive.loc[\"Q1:25%\", columnName] - descriptive.loc[\"1.5rule\", columnName]\n",
    "        descriptive.loc[\"Greater\", columnName] = descriptive.loc[\"Q3:75%\", columnName] + descriptive.loc[\"1.5rule\", columnName]\n",
    "        descriptive.loc[\"Min\", columnName] = dataset[columnName].min()\n",
    "        descriptive.loc[\"Max\", columnName] = dataset[columnName].max()\n",
    "        descriptive.loc[\"skew\", columnName] = dataset[columnName].skew()\n",
    "        descriptive.loc[\"kurtosis\", columnName] = dataset[columnName].kurtosis()\n",
    "        descriptive.loc[\"var\", columnName] = dataset[columnName].var()\n",
    "        descriptive.loc[\"Std\", columnName] = dataset[columnName].std()\n",
    "    \n",
    "    return descriptive\n"
   ]
  },
  {
   "cell_type": "code",
   "execution_count": 23,
   "id": "340374ca-8e37-4c98-aca8-c57739f95208",
   "metadata": {},
   "outputs": [
    {
     "data": {
      "text/html": [
       "<div>\n",
       "<style scoped>\n",
       "    .dataframe tbody tr th:only-of-type {\n",
       "        vertical-align: middle;\n",
       "    }\n",
       "\n",
       "    .dataframe tbody tr th {\n",
       "        vertical-align: top;\n",
       "    }\n",
       "\n",
       "    .dataframe thead th {\n",
       "        text-align: right;\n",
       "    }\n",
       "</style>\n",
       "<table border=\"1\" class=\"dataframe\">\n",
       "  <thead>\n",
       "    <tr style=\"text-align: right;\">\n",
       "      <th></th>\n",
       "      <th>response_time</th>\n",
       "      <th>error_rate</th>\n",
       "      <th>cpu_usage</th>\n",
       "      <th>memory_usage</th>\n",
       "      <th>disk_space</th>\n",
       "      <th>active_users</th>\n",
       "      <th>downtime</th>\n",
       "    </tr>\n",
       "  </thead>\n",
       "  <tbody>\n",
       "    <tr>\n",
       "      <th>mean</th>\n",
       "      <td>16.114286</td>\n",
       "      <td>50.825275</td>\n",
       "      <td>26.114286</td>\n",
       "      <td>36.114286</td>\n",
       "      <td>46.114286</td>\n",
       "      <td>6114.285714</td>\n",
       "      <td>0.450549</td>\n",
       "    </tr>\n",
       "    <tr>\n",
       "      <th>median</th>\n",
       "      <td>16.0</td>\n",
       "      <td>51.0</td>\n",
       "      <td>26.0</td>\n",
       "      <td>36.0</td>\n",
       "      <td>46.0</td>\n",
       "      <td>6000.0</td>\n",
       "      <td>0.0</td>\n",
       "    </tr>\n",
       "    <tr>\n",
       "      <th>mode</th>\n",
       "      <td>14</td>\n",
       "      <td>2</td>\n",
       "      <td>24</td>\n",
       "      <td>34</td>\n",
       "      <td>44</td>\n",
       "      <td>4000</td>\n",
       "      <td>0</td>\n",
       "    </tr>\n",
       "    <tr>\n",
       "      <th>Q1:25%</th>\n",
       "      <td>14.0</td>\n",
       "      <td>25.0</td>\n",
       "      <td>24.0</td>\n",
       "      <td>34.0</td>\n",
       "      <td>44.0</td>\n",
       "      <td>4000.0</td>\n",
       "      <td>0.0</td>\n",
       "    </tr>\n",
       "    <tr>\n",
       "      <th>Q2:50%</th>\n",
       "      <td>16.0</td>\n",
       "      <td>51.0</td>\n",
       "      <td>26.0</td>\n",
       "      <td>36.0</td>\n",
       "      <td>46.0</td>\n",
       "      <td>6000.0</td>\n",
       "      <td>0.0</td>\n",
       "    </tr>\n",
       "    <tr>\n",
       "      <th>Q3:75%</th>\n",
       "      <td>18.0</td>\n",
       "      <td>77.0</td>\n",
       "      <td>28.0</td>\n",
       "      <td>38.0</td>\n",
       "      <td>48.0</td>\n",
       "      <td>8000.0</td>\n",
       "      <td>1.0</td>\n",
       "    </tr>\n",
       "    <tr>\n",
       "      <th>Q4:100%</th>\n",
       "      <td>22.0</td>\n",
       "      <td>100.0</td>\n",
       "      <td>32.0</td>\n",
       "      <td>42.0</td>\n",
       "      <td>52.0</td>\n",
       "      <td>12000.0</td>\n",
       "      <td>1.0</td>\n",
       "    </tr>\n",
       "    <tr>\n",
       "      <th>IQR</th>\n",
       "      <td>4.0</td>\n",
       "      <td>52.0</td>\n",
       "      <td>4.0</td>\n",
       "      <td>4.0</td>\n",
       "      <td>4.0</td>\n",
       "      <td>4000.0</td>\n",
       "      <td>1.0</td>\n",
       "    </tr>\n",
       "    <tr>\n",
       "      <th>1.5rule</th>\n",
       "      <td>6.0</td>\n",
       "      <td>78.0</td>\n",
       "      <td>6.0</td>\n",
       "      <td>6.0</td>\n",
       "      <td>6.0</td>\n",
       "      <td>6000.0</td>\n",
       "      <td>1.5</td>\n",
       "    </tr>\n",
       "    <tr>\n",
       "      <th>Lesser</th>\n",
       "      <td>8.0</td>\n",
       "      <td>-53.0</td>\n",
       "      <td>18.0</td>\n",
       "      <td>28.0</td>\n",
       "      <td>38.0</td>\n",
       "      <td>-2000.0</td>\n",
       "      <td>-1.5</td>\n",
       "    </tr>\n",
       "    <tr>\n",
       "      <th>Greater</th>\n",
       "      <td>24.0</td>\n",
       "      <td>155.0</td>\n",
       "      <td>34.0</td>\n",
       "      <td>44.0</td>\n",
       "      <td>54.0</td>\n",
       "      <td>14000.0</td>\n",
       "      <td>2.5</td>\n",
       "    </tr>\n",
       "    <tr>\n",
       "      <th>Min</th>\n",
       "      <td>10</td>\n",
       "      <td>1</td>\n",
       "      <td>20</td>\n",
       "      <td>30</td>\n",
       "      <td>40</td>\n",
       "      <td>0</td>\n",
       "      <td>0</td>\n",
       "    </tr>\n",
       "    <tr>\n",
       "      <th>Max</th>\n",
       "      <td>22</td>\n",
       "      <td>100</td>\n",
       "      <td>32</td>\n",
       "      <td>42</td>\n",
       "      <td>52</td>\n",
       "      <td>12000</td>\n",
       "      <td>1</td>\n",
       "    </tr>\n",
       "    <tr>\n",
       "      <th>skew</th>\n",
       "      <td>-0.01597</td>\n",
       "      <td>-0.02271</td>\n",
       "      <td>-0.01597</td>\n",
       "      <td>-0.01597</td>\n",
       "      <td>-0.01597</td>\n",
       "      <td>-0.01597</td>\n",
       "      <td>0.198941</td>\n",
       "    </tr>\n",
       "    <tr>\n",
       "      <th>kurtosis</th>\n",
       "      <td>-1.039525</td>\n",
       "      <td>-1.215677</td>\n",
       "      <td>-1.039525</td>\n",
       "      <td>-1.039525</td>\n",
       "      <td>-1.039525</td>\n",
       "      <td>-1.039525</td>\n",
       "      <td>-1.96258</td>\n",
       "    </tr>\n",
       "    <tr>\n",
       "      <th>var</th>\n",
       "      <td>13.420686</td>\n",
       "      <td>854.709421</td>\n",
       "      <td>13.420686</td>\n",
       "      <td>13.420686</td>\n",
       "      <td>13.420686</td>\n",
       "      <td>13420686.405403</td>\n",
       "      <td>0.247691</td>\n",
       "    </tr>\n",
       "    <tr>\n",
       "      <th>Std</th>\n",
       "      <td>3.663426</td>\n",
       "      <td>29.235414</td>\n",
       "      <td>3.663426</td>\n",
       "      <td>3.663426</td>\n",
       "      <td>3.663426</td>\n",
       "      <td>3663.425502</td>\n",
       "      <td>0.497685</td>\n",
       "    </tr>\n",
       "  </tbody>\n",
       "</table>\n",
       "</div>"
      ],
      "text/plain": [
       "         response_time  error_rate  cpu_usage memory_usage disk_space  \\\n",
       "mean         16.114286   50.825275  26.114286    36.114286  46.114286   \n",
       "median            16.0        51.0       26.0         36.0       46.0   \n",
       "mode                14           2         24           34         44   \n",
       "Q1:25%            14.0        25.0       24.0         34.0       44.0   \n",
       "Q2:50%            16.0        51.0       26.0         36.0       46.0   \n",
       "Q3:75%            18.0        77.0       28.0         38.0       48.0   \n",
       "Q4:100%           22.0       100.0       32.0         42.0       52.0   \n",
       "IQR                4.0        52.0        4.0          4.0        4.0   \n",
       "1.5rule            6.0        78.0        6.0          6.0        6.0   \n",
       "Lesser             8.0       -53.0       18.0         28.0       38.0   \n",
       "Greater           24.0       155.0       34.0         44.0       54.0   \n",
       "Min                 10           1         20           30         40   \n",
       "Max                 22         100         32           42         52   \n",
       "skew          -0.01597    -0.02271   -0.01597     -0.01597   -0.01597   \n",
       "kurtosis     -1.039525   -1.215677  -1.039525    -1.039525  -1.039525   \n",
       "var          13.420686  854.709421  13.420686    13.420686  13.420686   \n",
       "Std           3.663426   29.235414   3.663426     3.663426   3.663426   \n",
       "\n",
       "             active_users  downtime  \n",
       "mean          6114.285714  0.450549  \n",
       "median             6000.0       0.0  \n",
       "mode                 4000         0  \n",
       "Q1:25%             4000.0       0.0  \n",
       "Q2:50%             6000.0       0.0  \n",
       "Q3:75%             8000.0       1.0  \n",
       "Q4:100%           12000.0       1.0  \n",
       "IQR                4000.0       1.0  \n",
       "1.5rule            6000.0       1.5  \n",
       "Lesser            -2000.0      -1.5  \n",
       "Greater           14000.0       2.5  \n",
       "Min                     0         0  \n",
       "Max                 12000         1  \n",
       "skew             -0.01597  0.198941  \n",
       "kurtosis        -1.039525  -1.96258  \n",
       "var       13420686.405403  0.247691  \n",
       "Std           3663.425502  0.497685  "
      ]
     },
     "execution_count": 23,
     "metadata": {},
     "output_type": "execute_result"
    }
   ],
   "source": [
    "Univariate(dataset,quan)"
   ]
  },
  {
   "cell_type": "markdown",
   "id": "3c26bad0-d11a-4c23-972f-a401f916bc2c",
   "metadata": {},
   "source": [
    "## To view the density of active_users"
   ]
  },
  {
   "cell_type": "code",
   "execution_count": 24,
   "id": "bda46c3b-dfd4-4a7e-94c1-4c0744e56a97",
   "metadata": {},
   "outputs": [
    {
     "data": {
      "text/plain": [
       "<seaborn.axisgrid.FacetGrid at 0x255a87c2b10>"
      ]
     },
     "execution_count": 24,
     "metadata": {},
     "output_type": "execute_result"
    },
    {
     "data": {
      "image/png": "[encoded data removed]",
      "text/plain": [
       "<Figure size 500x500 with 1 Axes>"
      ]
     },
     "metadata": {},
     "output_type": "display_data"
    }
   ],
   "source": [
    "sns.displot(dataset[\"active_users\"])"
   ]
  },
  {
   "cell_type": "markdown",
   "id": "7754b785-4dd4-47b7-898f-c67f55a2064c",
   "metadata": {},
   "source": [
    "## probability of desired range(mean and standard deviation)"
   ]
  },
  {
   "cell_type": "code",
   "execution_count": 25,
   "id": "8004a192-b38f-4161-a85b-50f707a66340",
   "metadata": {},
   "outputs": [],
   "source": [
    "def get_pdf_probability(dataset, startrange, endrange):\n",
    "    from matplotlib import pyplot\n",
    "    from scipy.stats import norm\n",
    "    import seaborn as sns\n",
    "    \n",
    "    # Plot histogram with KDE\n",
    "    ax = sns.histplot(dataset, kde=True, line_kws={'color': 'blue'}, color='Green')\n",
    "    pyplot.axvline(startrange, color='Red')\n",
    "    pyplot.axvline(endrange, color='Red')\n",
    "    \n",
    "    # Generate a sample\n",
    "    sample = dataset\n",
    "    # Calculate parameters\n",
    "    sample_mean = sample.mean()\n",
    "    sample_std = sample.std()\n",
    "    print('Mean=%.3f, Standard Deviation=%.3f' % (sample_mean, sample_std))\n",
    "    \n",
    "    # Define the distribution\n",
    "    dist = norm(sample_mean, sample_std)\n",
    "    # Sample probabilities for a range of outcomes\n",
    "    values = [value for value in range(startrange, endrange)]\n",
    "    probabilities = [dist.pdf(value) for value in values]\n",
    "    prob = sum(probabilities)\n",
    "    print(\"The area between range({}, {}): {}\".format(startrange, endrange, prob))\n",
    "    return prob\n"
   ]
  },
  {
   "cell_type": "code",
   "execution_count": 26,
   "id": "47ed3674-4421-4be5-b88e-e2e8fa9e9921",
   "metadata": {},
   "outputs": [
    {
     "name": "stdout",
     "output_type": "stream",
     "text": [
      "Mean=6114.286, Standard Deviation=3663.426\n",
      "The area between range(7500, 10000): 0.20822155212719295\n"
     ]
    },
    {
     "data": {
      "text/plain": [
       "0.20822155212719295"
      ]
     },
     "execution_count": 26,
     "metadata": {},
     "output_type": "execute_result"
    },
    {
     "data": {
      "image/png": "[encoded data removed]",
      "text/plain": [
       "<Figure size 640x480 with 1 Axes>"
      ]
     },
     "metadata": {},
     "output_type": "display_data"
    }
   ],
   "source": [
    "get_pdf_probability(dataset[\"active_users\"],7500,10000)"
   ]
  },
  {
   "cell_type": "code",
   "execution_count": null,
   "id": "44f095dd-3f33-42a6-b296-0afa1dae78d0",
   "metadata": {},
   "outputs": [],
   "source": []
  }
 ],
 "metadata": {
  "kernelspec": {
   "display_name": "Python 3 (ipykernel)",
   "language": "python",
   "name": "python3"
  },
  "language_info": {
   "codemirror_mode": {
    "name": "ipython",
    "version": 3
   },
   "file_extension": ".py",
   "mimetype": "text/x-python",
   "name": "python",
   "nbconvert_exporter": "python",
   "pygments_lexer": "ipython3",
   "version": "3.12.4"
  }
 },
 "nbformat": 4,
 "nbformat_minor": 5
}
